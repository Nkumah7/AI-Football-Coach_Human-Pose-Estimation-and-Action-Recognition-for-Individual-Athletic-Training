{
 "cells": [
  {
   "cell_type": "code",
   "execution_count": 1,
   "id": "0e589365-c779-46c6-99a6-27d6b3fa578c",
   "metadata": {},
   "outputs": [],
   "source": [
    "import os\n",
    "import numpy as np\n",
    "import tensorflow as tf\n",
    "from tensorflow import keras\n",
    "from sklearn.preprocessing import StandardScaler"
   ]
  },
  {
   "cell_type": "code",
   "execution_count": 2,
   "id": "e8f174ad-7ff4-434c-9397-80b6c5c23f63",
   "metadata": {},
   "outputs": [],
   "source": [
    "pose_train_data = np.load(\"train_data/encoded_data/pose_train_data.npy\")\n",
    "pose_train_labels = np.load(\"train_data/pose_train_labels.npy\")"
   ]
  },
  {
   "cell_type": "code",
   "execution_count": 3,
   "id": "6dbf8b43-d0bc-4a32-a01d-4b118f526e9f",
   "metadata": {},
   "outputs": [
    {
     "data": {
      "text/plain": [
       "((40, 30), (40,))"
      ]
     },
     "execution_count": 3,
     "metadata": {},
     "output_type": "execute_result"
    }
   ],
   "source": [
    "pose_train_data.shape, pose_train_labels.shape"
   ]
  },
  {
   "cell_type": "code",
   "execution_count": 4,
   "id": "7f7027b0-8a5a-4b03-a5ee-928946055e0d",
   "metadata": {},
   "outputs": [],
   "source": [
    "pose_val_data = np.load(\"val_data/encoded_data/pose_val_data.npy\")\n",
    "pose_val_labels = np.load(\"val_data/pose_val_labels.npy\")"
   ]
  },
  {
   "cell_type": "code",
   "execution_count": 5,
   "id": "c63aeb1c-ef33-4bf3-a360-4c73cb7b3ccb",
   "metadata": {},
   "outputs": [
    {
     "data": {
      "text/plain": [
       "((17, 30), (17,))"
      ]
     },
     "execution_count": 5,
     "metadata": {},
     "output_type": "execute_result"
    }
   ],
   "source": [
    "pose_val_data.shape, pose_val_labels.shape"
   ]
  },
  {
   "cell_type": "markdown",
   "id": "a0310cef-99e5-4a2b-a57d-ed7cbfc761fd",
   "metadata": {},
   "source": [
    "## Prepare two data representations\n",
    "\n",
    "Prepare encoded data and normalized data. Each to be used in different models "
   ]
  },
  {
   "cell_type": "markdown",
   "id": "01d5af6c-4e4c-44bf-83e9-40693cc44875",
   "metadata": {},
   "source": [
    "### 1. Encode the data\n",
    "\n",
    "Multi-hot encode the arrays to turn them to 0's and 1's to use in the model.\n",
    "\n",
    "Firstly check for the maximum nuber in the lists of sequences for the dimension:"
   ]
  },
  {
   "cell_type": "code",
   "execution_count": 6,
   "id": "6087eb78-7616-47f1-8bab-cbe7ac289cd7",
   "metadata": {},
   "outputs": [
    {
     "data": {
      "text/plain": [
       "331"
      ]
     },
     "execution_count": 6,
     "metadata": {},
     "output_type": "execute_result"
    }
   ],
   "source": [
    "max_num = max([max(sequence) for sequence in pose_train_data])\n",
    "max_num"
   ]
  },
  {
   "cell_type": "code",
   "execution_count": 7,
   "id": "4b389ffd-ff6d-4cf9-a49c-b1c66477d869",
   "metadata": {},
   "outputs": [],
   "source": [
    "def two_dim_encode_sequences(sequences, dimension):\n",
    "   \n",
    "    \n",
    "    # Initialize an all-zero matrix of shape (length of sequences by dimension of data)\n",
    "    results = np.zeros((len(sequences), dimension+1)) # +1 to include last element\n",
    "    \n",
    "    # Loop through data array\n",
    "    for i, sequence in enumerate(sequences):\n",
    "        # Loop through each sequence\n",
    "        for j in sequence:            \n",
    "            # Set specific indices in the results array to 1.\n",
    "            results[i, j] = 1.\n",
    "            \n",
    "    return results"
   ]
  },
  {
   "cell_type": "code",
   "execution_count": 8,
   "id": "2e7cf3af-8a1b-4bf9-a606-a5c9dbe48fd5",
   "metadata": {},
   "outputs": [],
   "source": [
    "def three_dim_encode_sequences(sequences, dimension):\n",
    "   \n",
    "    \n",
    "    # Initialize an all-zero matrix of shape (length of sequences by dimension of data)\n",
    "    results = np.zeros((len(sequences), 30, dimension+1)) # +1 to include last element\n",
    "    \n",
    "    # Loop through data array\n",
    "    for i, sequence in enumerate(sequences):\n",
    "        # Loop through each sequence\n",
    "        for j, s in enumerate(sequence):            \n",
    "            # Set specific indices in the results array to 1.\n",
    "            results[i, j, s] = 1.\n",
    "            \n",
    "    return results"
   ]
  },
  {
   "cell_type": "code",
   "execution_count": 9,
   "id": "59940ac9-04f6-46db-bfb0-2f848c184d75",
   "metadata": {},
   "outputs": [],
   "source": [
    "# Two dimensional encoding of train data\n",
    "two_dim_encoded_train_data = two_dim_encode_sequences(pose_train_data, max_num)\n",
    "\n",
    "# Two dimensional encoding of val data\n",
    "two_dim_encoded_val_data = two_dim_encode_sequences(pose_val_data, max_num)"
   ]
  },
  {
   "cell_type": "code",
   "execution_count": 10,
   "id": "d8aaeb61-5b4b-4879-b334-cf18d6951e85",
   "metadata": {},
   "outputs": [
    {
     "name": "stdout",
     "output_type": "stream",
     "text": [
      "Two dimensional encoded train data shape: (40, 332)\n",
      "Two dimensional encoded val data shape: (17, 332)\n"
     ]
    }
   ],
   "source": [
    "print(f\"Two dimensional encoded train data shape: {two_dim_encoded_train_data.shape}\")\n",
    "print(f\"Two dimensional encoded val data shape: {two_dim_encoded_val_data.shape}\")"
   ]
  },
  {
   "cell_type": "code",
   "execution_count": 11,
   "id": "568356d1-8817-42cd-8446-d77c4da2b52e",
   "metadata": {},
   "outputs": [],
   "source": [
    "# Three dimensional encoding of train data\n",
    "three_dim_encoded_train_data = three_dim_encode_sequences(pose_train_data, max_num)\n",
    "\n",
    "# Three dimensional encoding of val data\n",
    "three_dim_encoded_val_data = three_dim_encode_sequences(pose_val_data, max_num)"
   ]
  },
  {
   "cell_type": "code",
   "execution_count": 12,
   "id": "aa2df304-beba-454b-bdeb-754512b85274",
   "metadata": {},
   "outputs": [
    {
     "name": "stdout",
     "output_type": "stream",
     "text": [
      "Three dimensional encoded train data shape: (40, 30, 332)\n",
      "Three dimensional encoded val data shape: (17, 30, 332)\n"
     ]
    }
   ],
   "source": [
    "print(f\"Three dimensional encoded train data shape: {three_dim_encoded_train_data.shape}\")\n",
    "print(f\"Three dimensional encoded val data shape: {three_dim_encoded_val_data.shape}\")"
   ]
  },
  {
   "cell_type": "markdown",
   "id": "5ff240b8-3c27-4ff7-b6d5-fd64e0074d7f",
   "metadata": {},
   "source": [
    "## Save encoded data"
   ]
  },
  {
   "cell_type": "code",
   "execution_count": 13,
   "id": "ae1a6151-e522-4f45-8651-676ceb7bbcad",
   "metadata": {},
   "outputs": [],
   "source": [
    "# Save both two and three dimensional training data\n",
    "np.save(\"train_data/encoded_data/two_dim_encoded_train_data.npy\", two_dim_encoded_train_data)\n",
    "np.save(\"train_data/encoded_data/three_dim_encoded_train_data.npy\", three_dim_encoded_train_data)"
   ]
  },
  {
   "cell_type": "code",
   "execution_count": 14,
   "id": "3e50c86e-5575-433a-a234-7b3034be4cd4",
   "metadata": {},
   "outputs": [],
   "source": [
    "# Save both two and three dimensional val data\n",
    "np.save(\"val_data/encoded_data/two_dim_encoded_val_data.npy\", two_dim_encoded_val_data)\n",
    "np.save(\"val_data/encoded_data/three_dim_encoded_val_data.npy\", three_dim_encoded_val_data)"
   ]
  },
  {
   "cell_type": "markdown",
   "id": "3c842b09-1694-4f51-9b2c-4b503cd87365",
   "metadata": {},
   "source": [
    "### 2. Normalize the data"
   ]
  },
  {
   "cell_type": "code",
   "execution_count": 16,
   "id": "7256bceb-07b1-45bf-b8cb-e135f3a8a463",
   "metadata": {},
   "outputs": [],
   "source": [
    "def two_dim_norm_sequences(sequences):\n",
    "    \"\"\"\n",
    "    Function to normalize sequences of two dimensional shape\n",
    "    \n",
    "    Args:\n",
    "    sequences - array of sequences to be normalized\n",
    "    \n",
    "    Returns a two-dimensional array of normalized sequences\n",
    "    \"\"\"\n",
    "    \n",
    "    # Create feature scaling object\n",
    "    sc = StandardScaler()\n",
    "    \n",
    "    # Create scaler on data\n",
    "    normalized_data = sc.fit_transform(sequences)\n",
    "    \n",
    "    return normalized_data\n",
    "    "
   ]
  },
  {
   "cell_type": "code",
   "execution_count": 17,
   "id": "2717ae59-2cb7-4ec1-bf89-a89a99ee9014",
   "metadata": {},
   "outputs": [],
   "source": [
    "def three_dim_norm_sequences(sequences, m, n):\n",
    "    \"\"\"\n",
    "    Function to normalize sequences of three dimensional shape\n",
    "    \n",
    "    Args:\n",
    "    sequences - array of sequences to be normalized\n",
    "    m - number of samples (e.g. amount of videos)\n",
    "    n - number of features for each video\n",
    "    \n",
    "    Returns a three-dimensional array of normalized sequences\n",
    "    \"\"\"\n",
    "    \n",
    "    # Create feature scaling object\n",
    "    sc = StandardScaler()\n",
    "    \n",
    "    # Create scaler on data\n",
    "    normalized_data = sc.fit_transform(sequences)\n",
    "    \n",
    "    # Reshape data to three dimensional\n",
    "    three_dim_data = normalized_data.reshape(m, -1, n)    \n",
    "    \n",
    "    \n",
    "    return three_dim_data\n",
    "    "
   ]
  },
  {
   "cell_type": "code",
   "execution_count": 18,
   "id": "27fa9087-ed92-4a42-b8ab-06f6b0154a67",
   "metadata": {},
   "outputs": [],
   "source": [
    "# Two dimensional normalizing of train data\n",
    "two_dim_normalized_train_data = two_dim_norm_sequences(pose_train_data)\n",
    "\n",
    "# Two dimensional normalizing of val data\n",
    "two_dim_normalized_val_data = two_dim_norm_sequences(pose_val_data)"
   ]
  },
  {
   "cell_type": "code",
   "execution_count": 19,
   "id": "94a9dec8-0167-46d5-a185-c24b716ce4d1",
   "metadata": {},
   "outputs": [
    {
     "name": "stdout",
     "output_type": "stream",
     "text": [
      "Two dimensional normalized train data shape: (40, 30)\n",
      "Two dimensional normalized val data shape: (17, 30)\n"
     ]
    }
   ],
   "source": [
    "print(f\"Two dimensional normalized train data shape: {two_dim_normalized_train_data.shape}\")\n",
    "print(f\"Two dimensional normalized val data shape: {two_dim_normalized_val_data.shape}\")"
   ]
  },
  {
   "cell_type": "code",
   "execution_count": 20,
   "id": "c58f7f71-5591-40e2-b80e-32af54db710d",
   "metadata": {},
   "outputs": [
    {
     "data": {
      "text/plain": [
       "array([ 0.36854355,  0.51322073,  0.54746812,  0.85915534,  0.74495985,\n",
       "        0.56445844,  0.85793352,  0.87229263,  1.20356918,  0.46580719,\n",
       "        1.15558966,  0.47936631,  0.91800434,  0.22787509,  1.474253  ,\n",
       "        0.31207533,  1.66858181,  0.44229726,  1.3336552 ,  0.20504292,\n",
       "        0.51793507,  0.31724914, -0.29871492,  0.80779409,  0.00289765,\n",
       "        1.00970888,  0.20913165,  0.55279772,  0.80140249,  0.12219091])"
      ]
     },
     "execution_count": 20,
     "metadata": {},
     "output_type": "execute_result"
    }
   ],
   "source": [
    "two_dim_normalized_train_data[0]"
   ]
  },
  {
   "cell_type": "code",
   "execution_count": 21,
   "id": "3409fa22-46b7-4826-90ea-27eef9666a8b",
   "metadata": {},
   "outputs": [],
   "source": [
    "# Two dimensional normalizing of train data\n",
    "three_dim_normalized_train_data = three_dim_norm_sequences(pose_train_data, 40, 2)\n",
    "\n",
    "# Two dimensional normalizing of val data\n",
    "three_dim_normalized_val_data = three_dim_norm_sequences(pose_val_data, 17, 2)"
   ]
  },
  {
   "cell_type": "code",
   "execution_count": 22,
   "id": "b423bcc3-4d97-4d8e-81d7-89925a5c927f",
   "metadata": {},
   "outputs": [
    {
     "name": "stdout",
     "output_type": "stream",
     "text": [
      "Three dimensional normalized train data shape: (40, 15, 2)\n",
      "Three dimensional normalized val data shape: (17, 15, 2)\n"
     ]
    }
   ],
   "source": [
    "print(f\"Three dimensional normalized train data shape: {three_dim_normalized_train_data.shape}\")\n",
    "print(f\"Three dimensional normalized val data shape: {three_dim_normalized_val_data.shape}\")"
   ]
  },
  {
   "cell_type": "code",
   "execution_count": 23,
   "id": "eb8cdf27-550c-4e2a-a1cd-dba32299dbec",
   "metadata": {},
   "outputs": [
    {
     "data": {
      "text/plain": [
       "array([[ 0.36854355,  0.51322073],\n",
       "       [ 0.54746812,  0.85915534],\n",
       "       [ 0.74495985,  0.56445844],\n",
       "       [ 0.85793352,  0.87229263],\n",
       "       [ 1.20356918,  0.46580719],\n",
       "       [ 1.15558966,  0.47936631],\n",
       "       [ 0.91800434,  0.22787509],\n",
       "       [ 1.474253  ,  0.31207533],\n",
       "       [ 1.66858181,  0.44229726],\n",
       "       [ 1.3336552 ,  0.20504292],\n",
       "       [ 0.51793507,  0.31724914],\n",
       "       [-0.29871492,  0.80779409],\n",
       "       [ 0.00289765,  1.00970888],\n",
       "       [ 0.20913165,  0.55279772],\n",
       "       [ 0.80140249,  0.12219091]])"
      ]
     },
     "execution_count": 23,
     "metadata": {},
     "output_type": "execute_result"
    }
   ],
   "source": [
    "three_dim_normalized_train_data[0]"
   ]
  },
  {
   "cell_type": "markdown",
   "id": "0a69da83-37e7-429e-8fae-471b303fc8ed",
   "metadata": {},
   "source": [
    "### Save normalized data"
   ]
  },
  {
   "cell_type": "code",
   "execution_count": 52,
   "id": "f65a561c-3f77-4c87-972e-2e8c583a598d",
   "metadata": {},
   "outputs": [
    {
     "name": "stdout",
     "output_type": "stream",
     "text": [
      "Creating normalizeed train data folder...\n",
      "Creating normalized val data folder...\n"
     ]
    }
   ],
   "source": [
    "# Make directory to save numpy files\n",
    "try:\n",
    "    print(\"Creating normalizeed train data folder...\")\n",
    "    os.mkdir(f\"train_data/normalized_data\")\n",
    "    print(\"Creating normalized val data folder...\")\n",
    "    os.mkdir(f\"val_data/normalized_data\")\n",
    "except FileExistsError:\n",
    "    print(\"Directory already exist\")\n",
    "except:\n",
    "    print(\"Unforseen circumstance\")"
   ]
  },
  {
   "cell_type": "code",
   "execution_count": 24,
   "id": "da99a81f-9289-4945-8b90-1dc5ad9c7095",
   "metadata": {},
   "outputs": [],
   "source": [
    "# Save both two and three dimensional training data\n",
    "np.save(\"train_data/normalized_data/two_dim_normalized_train_data.npy\", two_dim_normalized_train_data)\n",
    "np.save(\"train_data/normalized_data/three_dim_normalized_train_data.npy\", three_dim_normalized_train_data)"
   ]
  },
  {
   "cell_type": "code",
   "execution_count": 25,
   "id": "b8c8107e-a141-4549-9326-f8d6d208a41f",
   "metadata": {},
   "outputs": [],
   "source": [
    "# Save both two and three dimensional val data\n",
    "np.save(\"val_data/normalized_data/two_dim_normalized_val_data.npy\", two_dim_normalized_val_data)\n",
    "np.save(\"val_data/normalized_data/three_dim_normalized_val_data.npy\", three_dim_normalized_val_data)"
   ]
  },
  {
   "cell_type": "code",
   "execution_count": null,
   "id": "8acc51c3-b97e-4da8-acc0-eb1434496453",
   "metadata": {},
   "outputs": [],
   "source": []
  }
 ],
 "metadata": {
  "kernelspec": {
   "display_name": "Python 3 (ipykernel)",
   "language": "python",
   "name": "python3"
  },
  "language_info": {
   "codemirror_mode": {
    "name": "ipython",
    "version": 3
   },
   "file_extension": ".py",
   "mimetype": "text/x-python",
   "name": "python",
   "nbconvert_exporter": "python",
   "pygments_lexer": "ipython3",
   "version": "3.10.5"
  }
 },
 "nbformat": 4,
 "nbformat_minor": 5
}
