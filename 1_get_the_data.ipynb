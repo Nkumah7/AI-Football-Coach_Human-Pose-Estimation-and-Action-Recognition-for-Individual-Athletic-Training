{
 "cells": [
  {
   "cell_type": "code",
   "execution_count": 1,
   "id": "69e2ea86-81fe-4cee-b266-0b78e7634d98",
   "metadata": {},
   "outputs": [],
   "source": [
    "import os\n",
    "import cv2\n",
    "import json\n",
    "import time\n",
    "import math\n",
    "import copy\n",
    "import numpy as np\n",
    "import pandas as pd\n",
    "import mediapipe as mp\n",
    "import tensorflow as tf\n",
    "from tensorflow import keras"
   ]
  },
  {
   "cell_type": "code",
   "execution_count": 2,
   "id": "2b61f782-8f31-4289-8e45-16b5c2e7f721",
   "metadata": {},
   "outputs": [],
   "source": [
    "def find_pose(img, pose, mp_pose):\n",
    "    imgRGB = cv2.cvtColor(img, cv2.COLOR_BGR2RGB)\n",
    "    results = pose.process(imgRGB)\n",
    "    coords = {}\n",
    "    \n",
    "    if results.pose_landmarks:            \n",
    "        # Knee\n",
    "        right_knee_x = results.pose_landmarks.landmark[mp_pose.PoseLandmark.RIGHT_KNEE].x\n",
    "        right_knee_y = results.pose_landmarks.landmark[mp_pose.PoseLandmark.RIGHT_KNEE].y\n",
    "        left_knee_x = results.pose_landmarks.landmark[mp_pose.PoseLandmark.LEFT_KNEE].x\n",
    "        left_knee_y = results.pose_landmarks.landmark[mp_pose.PoseLandmark.LEFT_KNEE].y\n",
    "        \n",
    "        right_knee_cor = right_knee_x, right_knee_y\n",
    "        left_knee_cor = left_knee_x, left_knee_y\n",
    "        \n",
    "        coords.update({\n",
    "            \"knee coordinates\": {\n",
    "                \"right knee\": (right_knee_x, right_knee_y),\n",
    "                \"left knee\": (left_knee_x, left_knee_y)\n",
    "            }\n",
    "        })\n",
    "        \n",
    "    imgBGR = cv2.cvtColor(imgRGB, cv2.COLOR_RGB2BGR)\n",
    "    return img, results, coords"
   ]
  },
  {
   "cell_type": "code",
   "execution_count": 3,
   "id": "7f912827-120a-46b5-ba74-6ee89d89382e",
   "metadata": {},
   "outputs": [],
   "source": [
    "def find_position(img, results):\n",
    "    pose_list = np.array([[res.x, res.y] for res in results.pose_landmarks.landmark] if results.pose_landmarks else np.zeros((32, 2)))              \n",
    "    return pose_list"
   ]
  },
  {
   "cell_type": "code",
   "execution_count": 4,
   "id": "4ba93b1d-a2c2-47b5-bec0-92d07ede5f3a",
   "metadata": {},
   "outputs": [],
   "source": [
    "def find_angle(img, p1, p2, p3, pose_list):\n",
    "    \n",
    "    # Get the landmarks\n",
    "    x1, y1 = pose_list[p1]\n",
    "    x2, y2 = pose_list[p2]\n",
    "    x3, y3 = pose_list[p3]\n",
    "    \n",
    "    # Calculate the Angle\n",
    "    angle = math.degrees(math.atan2(y3 - y2, x3 - x2) - math.atan2(y1 - y2, x1 - x2))\n",
    "    if angle < 0:\n",
    "        angle += 360    \n",
    "    return angle"
   ]
  },
  {
   "cell_type": "code",
   "execution_count": 5,
   "id": "4aa1d000-26d3-476b-9ee4-749a6d15d982",
   "metadata": {},
   "outputs": [],
   "source": [
    "def pose_detector(vid, num_frames):\n",
    "    mp_drawing = mp.solutions.drawing_utils\n",
    "    mp_drawing_styles = mp.solutions.drawing_styles\n",
    "    mp_pose = mp.solutions.pose\n",
    "    pose = mp_pose.Pose(min_detection_confidence=0.5, min_tracking_confidence=0.5)\n",
    "    \n",
    "    count_frames = 0\n",
    "    cap = cv2.VideoCapture(vid)\n",
    "    joint_angles = {\n",
    "        \"right knee\": [],\n",
    "        \"left knee\": []\n",
    "                        }\n",
    "    \n",
    "    i = 0\n",
    "    with pose:\n",
    "        while True:\n",
    "            success, image = cap.read()\n",
    "            image = cv2.resize(image, (649, 400))\n",
    "            if not success:\n",
    "                print(\"Ignoring empty camera frame.\")\n",
    "                break             \n",
    "            \n",
    "            image, results, coords = find_pose(image, pose, mp_pose)\n",
    "            pose_list = find_position(image, results)\n",
    "           \n",
    "            if len(pose_list) != 0:                \n",
    "                # Right leg\n",
    "                right_knee_angles = find_angle(image, 24, 26, 28, pose_list)           \n",
    "                joint_angles[\"right knee\"].append(int(right_knee_angles))\n",
    "                \n",
    "                # Left leg\n",
    "                left_knee_angles = find_angle(image, 23, 25, 27, pose_list)\n",
    "                joint_angles[\"left knee\"].append(int(left_knee_angles))           \n",
    "        \n",
    "            count_frames += 1\n",
    "            i += 1\n",
    "            \n",
    "            if num_frames == count_frames:                \n",
    "                break            \n",
    "            \n",
    "            # Show to screen - Uncomment to see video\n",
    "            # cv2.imshow('Feed', image)\n",
    "            \n",
    "            # Break - End video with letter q on keyboard - Uncomment if you are watching video\n",
    "            # if cv2.waitKey(10) & 0xFF == ord('q'):\n",
    "            #     break      \n",
    "           \n",
    "    \n",
    "    cap.release()\n",
    "    cv2.destroyAllWindows()\n",
    "    \n",
    "    return joint_angles, coords"
   ]
  },
  {
   "cell_type": "code",
   "execution_count": 6,
   "id": "2066c242-377b-48e5-b4be-d797ba6ba541",
   "metadata": {},
   "outputs": [],
   "source": [
    "num_frames = 15"
   ]
  },
  {
   "cell_type": "code",
   "execution_count": 7,
   "id": "554ac4d2-4b3c-4ab3-8b10-a8a62dc3cf47",
   "metadata": {},
   "outputs": [],
   "source": [
    "def get_joint_angles_and_coords(path):    \n",
    "    players = {}\n",
    "    x_y_cors = {}\n",
    "    dir_list = os.listdir(path)\n",
    "    \n",
    "    for i, vid in enumerate(dir_list):    \n",
    "        joint_angles, coords = pose_detector(f\"{path}/{vid}\", num_frames=num_frames)\n",
    "        players[f\"joint_angles_{i+1}\"] = joint_angles\n",
    "        x_y_cors[f\"joint_cors_{i+1}\"] = coords\n",
    "        \n",
    "    return players, x_y_cors"
   ]
  },
  {
   "cell_type": "code",
   "execution_count": 8,
   "id": "25a99e23-905f-4110-bb0d-b0493041ca04",
   "metadata": {},
   "outputs": [],
   "source": [
    "def get_joint_angle_sequences(joint_angles):    \n",
    "    players_joint_angles = []\n",
    "    \n",
    "    for i, joint_angle in enumerate(joint_angles):\n",
    "        joint_angle = joint_angles[joint_angle]\n",
    "        player_joint_angles = []\n",
    "   \n",
    "        for j in range(num_frames):            \n",
    "            player_joint_angles.extend([joint_angle['right knee'][j], joint_angle['left knee'][j]])\n",
    "        players_joint_angles.append(player_joint_angles) \n",
    "        \n",
    "    return np.array(players_joint_angles)"
   ]
  },
  {
   "cell_type": "code",
   "execution_count": 9,
   "id": "be6d3aac-8fd2-476c-af65-0a7c72a9c811",
   "metadata": {},
   "outputs": [],
   "source": [
    "def extract_tag(video_path):\n",
    "    return video_path.split(\"_\")[1]"
   ]
  },
  {
   "cell_type": "code",
   "execution_count": 10,
   "id": "2db9cd26-7d77-436b-ba1b-3b410a8db9ec",
   "metadata": {},
   "outputs": [],
   "source": [
    "# Create a dataframe having video names\n",
    "def create_dataframe(videos):    \n",
    "    df = pd.DataFrame()\n",
    "    df['video_name'] = videos   \n",
    "    df[\"tag\"] = df[\"video_name\"].apply(extract_tag)\n",
    "    return df"
   ]
  },
  {
   "cell_type": "code",
   "execution_count": 11,
   "id": "b747a8b7-c3c1-4e94-9d9a-26a4a2d781e6",
   "metadata": {},
   "outputs": [],
   "source": [
    "def process_label(data):    \n",
    "    label_processor = keras.layers.StringLookup(\n",
    "        num_oov_indices=0, vocabulary=np.unique(data)\n",
    "    )\n",
    "    \n",
    "    return label_processor"
   ]
  },
  {
   "cell_type": "markdown",
   "id": "6f761d89-4daf-46b2-828c-9ab9bbe5a7f0",
   "metadata": {},
   "source": [
    "## Extract Train Data"
   ]
  },
  {
   "cell_type": "code",
   "execution_count": 12,
   "id": "290b4827-2fa4-4b25-8998-4cced5a95a3f",
   "metadata": {},
   "outputs": [
    {
     "data": {
      "text/html": [
       "<div>\n",
       "<style scoped>\n",
       "    .dataframe tbody tr th:only-of-type {\n",
       "        vertical-align: middle;\n",
       "    }\n",
       "\n",
       "    .dataframe tbody tr th {\n",
       "        vertical-align: top;\n",
       "    }\n",
       "\n",
       "    .dataframe thead th {\n",
       "        text-align: right;\n",
       "    }\n",
       "</style>\n",
       "<table border=\"1\" class=\"dataframe\">\n",
       "  <thead>\n",
       "    <tr style=\"text-align: right;\">\n",
       "      <th></th>\n",
       "      <th>video_name</th>\n",
       "      <th>tag</th>\n",
       "    </tr>\n",
       "  </thead>\n",
       "  <tbody>\n",
       "    <tr>\n",
       "      <th>0</th>\n",
       "      <td>v_SoccerDribbling_g24_c01.mp4</td>\n",
       "      <td>SoccerDribbling</td>\n",
       "    </tr>\n",
       "    <tr>\n",
       "      <th>1</th>\n",
       "      <td>v_SoccerDribbling_g24_c010.mp4</td>\n",
       "      <td>SoccerDribbling</td>\n",
       "    </tr>\n",
       "    <tr>\n",
       "      <th>2</th>\n",
       "      <td>v_SoccerDribbling_g24_c012.mp4</td>\n",
       "      <td>SoccerDribbling</td>\n",
       "    </tr>\n",
       "    <tr>\n",
       "      <th>3</th>\n",
       "      <td>v_SoccerDribbling_g24_c013.mp4</td>\n",
       "      <td>SoccerDribbling</td>\n",
       "    </tr>\n",
       "    <tr>\n",
       "      <th>4</th>\n",
       "      <td>v_SoccerDribbling_g24_c016.mp4</td>\n",
       "      <td>SoccerDribbling</td>\n",
       "    </tr>\n",
       "  </tbody>\n",
       "</table>\n",
       "</div>"
      ],
      "text/plain": [
       "                       video_name              tag\n",
       "0   v_SoccerDribbling_g24_c01.mp4  SoccerDribbling\n",
       "1  v_SoccerDribbling_g24_c010.mp4  SoccerDribbling\n",
       "2  v_SoccerDribbling_g24_c012.mp4  SoccerDribbling\n",
       "3  v_SoccerDribbling_g24_c013.mp4  SoccerDribbling\n",
       "4  v_SoccerDribbling_g24_c016.mp4  SoccerDribbling"
      ]
     },
     "execution_count": 12,
     "metadata": {},
     "output_type": "execute_result"
    }
   ],
   "source": [
    "train_videos = os.listdir(\"soccer_train\")\n",
    "train_df = create_dataframe(train_videos)\n",
    "train_df.head()"
   ]
  },
  {
   "cell_type": "code",
   "execution_count": 13,
   "id": "90e9ae0f-9386-413e-9453-16510be5f506",
   "metadata": {},
   "outputs": [],
   "source": [
    "train_players, train_coords = get_joint_angles_and_coords(\"soccer_train\")"
   ]
  },
  {
   "cell_type": "code",
   "execution_count": 14,
   "id": "09489896-1c67-45d9-bfa7-3c7069f9dd43",
   "metadata": {},
   "outputs": [
    {
     "data": {
      "text/plain": [
       "(40, 30)"
      ]
     },
     "execution_count": 14,
     "metadata": {},
     "output_type": "execute_result"
    }
   ],
   "source": [
    "train_joint_sequences = get_joint_angle_sequences(train_players)\n",
    "train_joint_sequences.shape"
   ]
  },
  {
   "cell_type": "code",
   "execution_count": 15,
   "id": "7f4b4986-29e9-4e3d-bdd9-5835460c63ef",
   "metadata": {},
   "outputs": [
    {
     "data": {
      "text/plain": [
       "array([178, 193, 195, 211, 203, 200, 204, 209, 218, 194, 218, 193, 204,\n",
       "       191, 214, 193, 212, 194, 202, 184, 185, 188, 172, 198, 177, 203,\n",
       "       179, 192, 200, 184])"
      ]
     },
     "execution_count": 15,
     "metadata": {},
     "output_type": "execute_result"
    }
   ],
   "source": [
    "train_joint_sequences[0]"
   ]
  },
  {
   "cell_type": "code",
   "execution_count": 16,
   "id": "84c4e318-4f15-4e59-8de5-bbdb66b4cabf",
   "metadata": {},
   "outputs": [
    {
     "data": {
      "text/plain": [
       "['SoccerDribbling', 'SoccerJuggling']"
      ]
     },
     "execution_count": 16,
     "metadata": {},
     "output_type": "execute_result"
    }
   ],
   "source": [
    "train_label_processor = process_label(train_df[\"tag\"])\n",
    "train_label_processor.get_vocabulary()"
   ]
  },
  {
   "cell_type": "code",
   "execution_count": 17,
   "id": "957e29d5-94cd-4c8f-86bc-a93f6a753bb8",
   "metadata": {},
   "outputs": [
    {
     "data": {
      "text/plain": [
       "array([0, 0, 0, 0, 0, 0, 0, 0, 0, 0, 0, 0, 0, 0, 0, 0, 0, 0, 0, 0, 1, 1,\n",
       "       1, 1, 1, 1, 1, 1, 1, 1, 1, 1, 1, 1, 1, 1, 1, 1, 1, 1], dtype=int64)"
      ]
     },
     "execution_count": 17,
     "metadata": {},
     "output_type": "execute_result"
    }
   ],
   "source": [
    "labels = train_df[\"tag\"]\n",
    "labels = train_label_processor(labels).numpy()\n",
    "labels"
   ]
  },
  {
   "cell_type": "code",
   "execution_count": 18,
   "id": "500401f8-1e7d-4026-b4c5-4e2ddd304baf",
   "metadata": {},
   "outputs": [
    {
     "data": {
      "text/plain": [
       "(40,)"
      ]
     },
     "execution_count": 18,
     "metadata": {},
     "output_type": "execute_result"
    }
   ],
   "source": [
    "labels.shape"
   ]
  },
  {
   "cell_type": "code",
   "execution_count": 19,
   "id": "74106885-884d-455f-a124-4cb9ab7d20c6",
   "metadata": {},
   "outputs": [],
   "source": [
    "train_data, train_labels = train_joint_sequences, labels"
   ]
  },
  {
   "cell_type": "code",
   "execution_count": 20,
   "id": "200ef994-a310-4396-b059-2b483856ee29",
   "metadata": {},
   "outputs": [
    {
     "data": {
      "text/plain": [
       "((40, 30), (40,))"
      ]
     },
     "execution_count": 20,
     "metadata": {},
     "output_type": "execute_result"
    }
   ],
   "source": [
    "train_data.shape, train_labels.shape"
   ]
  },
  {
   "cell_type": "markdown",
   "id": "0c625ed8-d170-4437-a8ae-f5a695b5bbd2",
   "metadata": {},
   "source": [
    "## Extract Test Data"
   ]
  },
  {
   "cell_type": "code",
   "execution_count": 21,
   "id": "e65478a4-a71d-4229-9719-3e983a820257",
   "metadata": {},
   "outputs": [
    {
     "data": {
      "text/html": [
       "<div>\n",
       "<style scoped>\n",
       "    .dataframe tbody tr th:only-of-type {\n",
       "        vertical-align: middle;\n",
       "    }\n",
       "\n",
       "    .dataframe tbody tr th {\n",
       "        vertical-align: top;\n",
       "    }\n",
       "\n",
       "    .dataframe thead th {\n",
       "        text-align: right;\n",
       "    }\n",
       "</style>\n",
       "<table border=\"1\" class=\"dataframe\">\n",
       "  <thead>\n",
       "    <tr style=\"text-align: right;\">\n",
       "      <th></th>\n",
       "      <th>video_name</th>\n",
       "      <th>tag</th>\n",
       "    </tr>\n",
       "  </thead>\n",
       "  <tbody>\n",
       "    <tr>\n",
       "      <th>0</th>\n",
       "      <td>v_SoccerDribbling_g24_c014.mp4</td>\n",
       "      <td>SoccerDribbling</td>\n",
       "    </tr>\n",
       "    <tr>\n",
       "      <th>1</th>\n",
       "      <td>v_SoccerDribbling_g24_c017.mp4</td>\n",
       "      <td>SoccerDribbling</td>\n",
       "    </tr>\n",
       "    <tr>\n",
       "      <th>2</th>\n",
       "      <td>v_SoccerDribbling_g24_c02.mp4</td>\n",
       "      <td>SoccerDribbling</td>\n",
       "    </tr>\n",
       "    <tr>\n",
       "      <th>3</th>\n",
       "      <td>v_SoccerDribbling_g24_c023.mp4</td>\n",
       "      <td>SoccerDribbling</td>\n",
       "    </tr>\n",
       "    <tr>\n",
       "      <th>4</th>\n",
       "      <td>v_SoccerDribbling_g24_c024.mp4</td>\n",
       "      <td>SoccerDribbling</td>\n",
       "    </tr>\n",
       "  </tbody>\n",
       "</table>\n",
       "</div>"
      ],
      "text/plain": [
       "                       video_name              tag\n",
       "0  v_SoccerDribbling_g24_c014.mp4  SoccerDribbling\n",
       "1  v_SoccerDribbling_g24_c017.mp4  SoccerDribbling\n",
       "2   v_SoccerDribbling_g24_c02.mp4  SoccerDribbling\n",
       "3  v_SoccerDribbling_g24_c023.mp4  SoccerDribbling\n",
       "4  v_SoccerDribbling_g24_c024.mp4  SoccerDribbling"
      ]
     },
     "execution_count": 21,
     "metadata": {},
     "output_type": "execute_result"
    }
   ],
   "source": [
    "val_videos = os.listdir(\"soccer_val\")\n",
    "val_df = create_dataframe(val_videos)\n",
    "val_df.head()"
   ]
  },
  {
   "cell_type": "code",
   "execution_count": 22,
   "id": "d2fffcf7-b99e-4e9c-9340-2f9619f2be66",
   "metadata": {},
   "outputs": [],
   "source": [
    "val_players, val_coords = get_joint_angles_and_coords(\"soccer_val\")"
   ]
  },
  {
   "cell_type": "code",
   "execution_count": 23,
   "id": "1bb36ae6-e61a-4d5c-8ed3-0d3c178d72f3",
   "metadata": {},
   "outputs": [
    {
     "data": {
      "text/plain": [
       "(17, 30)"
      ]
     },
     "execution_count": 23,
     "metadata": {},
     "output_type": "execute_result"
    }
   ],
   "source": [
    "val_joint_sequences = get_joint_angle_sequences(val_players)\n",
    "val_joint_sequences.shape"
   ]
  },
  {
   "cell_type": "code",
   "execution_count": 24,
   "id": "a633850e-e754-45d2-bac1-a54dd9fb551b",
   "metadata": {},
   "outputs": [
    {
     "data": {
      "text/plain": [
       "['SoccerDribbling', 'SoccerJuggling']"
      ]
     },
     "execution_count": 24,
     "metadata": {},
     "output_type": "execute_result"
    }
   ],
   "source": [
    "val_label_processor = process_label(val_df[\"tag\"])\n",
    "val_label_processor.get_vocabulary()"
   ]
  },
  {
   "cell_type": "code",
   "execution_count": 25,
   "id": "0460a641-79ae-4777-8854-df8aff1d0f0d",
   "metadata": {},
   "outputs": [
    {
     "data": {
      "text/plain": [
       "array([0, 0, 0, 0, 0, 0, 0, 1, 1, 1, 1, 1, 1, 1, 1, 1, 1], dtype=int64)"
      ]
     },
     "execution_count": 25,
     "metadata": {},
     "output_type": "execute_result"
    }
   ],
   "source": [
    "labels = val_df[\"tag\"]\n",
    "labels = val_label_processor(labels).numpy()\n",
    "labels"
   ]
  },
  {
   "cell_type": "code",
   "execution_count": 26,
   "id": "f6015d16-1ad2-4d8b-8f9b-360b06668ba1",
   "metadata": {},
   "outputs": [
    {
     "data": {
      "text/plain": [
       "(17,)"
      ]
     },
     "execution_count": 26,
     "metadata": {},
     "output_type": "execute_result"
    }
   ],
   "source": [
    "labels.shape"
   ]
  },
  {
   "cell_type": "code",
   "execution_count": 27,
   "id": "34a6bf8b-0187-4657-a65c-c24f5942fcfd",
   "metadata": {},
   "outputs": [],
   "source": [
    "val_data, val_labels = val_joint_sequences, labels"
   ]
  },
  {
   "cell_type": "code",
   "execution_count": 28,
   "id": "efad9bb6-4614-4f5c-b871-9871ed7251b8",
   "metadata": {},
   "outputs": [
    {
     "data": {
      "text/plain": [
       "((17, 30), (17,))"
      ]
     },
     "execution_count": 28,
     "metadata": {},
     "output_type": "execute_result"
    }
   ],
   "source": [
    "val_data.shape, val_labels.shape"
   ]
  },
  {
   "cell_type": "code",
   "execution_count": 32,
   "id": "e70a3134-6d22-46d3-a38f-30739466444e",
   "metadata": {},
   "outputs": [
    {
     "name": "stdout",
     "output_type": "stream",
     "text": [
      "Creating train folder...\n",
      "Creating val folder...\n"
     ]
    }
   ],
   "source": [
    "# Make directory to save numpy files\n",
    "try:\n",
    "    print(\"Creating train folder...\")\n",
    "    os.mkdir(f\"train_data/\")\n",
    "    print(\"Creating val folder...\")\n",
    "    os.mkdir(f\"val_data/\")\n",
    "except FileExistsError:\n",
    "    print(\"Directory already exist\")\n",
    "except:\n",
    "    print(\"Unforseen circumstance\")"
   ]
  },
  {
   "cell_type": "code",
   "execution_count": 29,
   "id": "e9d0ac59-2c2a-402b-888f-f67eb81f485c",
   "metadata": {},
   "outputs": [],
   "source": [
    "# Save train data as npy file\n",
    "np.save('train_data/encoded_data/pose_train_data', train_data)\n",
    "np.save('train_data/normalized_data/pose_train_data', train_data)\n",
    "np.save('train_data/pose_train_labels', train_labels)"
   ]
  },
  {
   "cell_type": "code",
   "execution_count": 30,
   "id": "b56223ac-de72-4cb7-a694-2a62f9877992",
   "metadata": {},
   "outputs": [],
   "source": [
    "# Save val data as npy file\n",
    "np.save('val_data/encoded_data/pose_val_data', val_data)\n",
    "np.save('val_data/normalized_data/pose_val_data', val_data)\n",
    "np.save('val_data/pose_val_labels', val_labels)"
   ]
  },
  {
   "cell_type": "code",
   "execution_count": 31,
   "id": "1bcc638b-ebd5-4223-b93d-4af2d43f474e",
   "metadata": {},
   "outputs": [
    {
     "name": "stdout",
     "output_type": "stream",
     "text": [
      "Creating sequence coordinates folder...\n",
      "Directory already exist\n"
     ]
    }
   ],
   "source": [
    "try:\n",
    "    print(\"Creating sequence coordinates folder...\")\n",
    "    os.mkdir(f\"sequence_coordinates/\")\n",
    "except FileExistsError:\n",
    "    print(\"Directory already exist\")\n",
    "except:\n",
    "    print(\"Unforseen circumstance\")"
   ]
  },
  {
   "cell_type": "markdown",
   "id": "16b6c732-688c-4bf7-aba7-f063e188429f",
   "metadata": {},
   "source": [
    "## Store Sequence (x, y) Coordinates for Visualization"
   ]
  },
  {
   "cell_type": "code",
   "execution_count": 32,
   "id": "cba7bb42-488c-4a00-886f-e89e88ad055c",
   "metadata": {},
   "outputs": [],
   "source": [
    "# Serializing json for train sequence coordinates\n",
    "json_object = json.dumps(train_coords, indent=4)\n",
    " \n",
    "# Writing to train_sequence_coords.json\n",
    "with open(\"sequence_coordinates/train_sequence_coords.json\", \"w\") as outfile:\n",
    "    outfile.write(json_object)"
   ]
  },
  {
   "cell_type": "code",
   "execution_count": 33,
   "id": "a2118d1a-81fa-4380-8296-d5d7033c9965",
   "metadata": {},
   "outputs": [],
   "source": [
    "# Serializing json for val sequence coordinates\n",
    "json_object = json.dumps(val_coords, indent=4)\n",
    " \n",
    "# Writing to train_sequence_coords.json\n",
    "with open(\"sequence_coordinates/val_sequence_coords.json\", \"w\") as outfile:\n",
    "    outfile.write(json_object)"
   ]
  },
  {
   "cell_type": "code",
   "execution_count": null,
   "id": "cec7333c-2e6b-409d-90d9-e0849147790c",
   "metadata": {},
   "outputs": [],
   "source": []
  }
 ],
 "metadata": {
  "kernelspec": {
   "display_name": "Python 3 (ipykernel)",
   "language": "python",
   "name": "python3"
  },
  "language_info": {
   "codemirror_mode": {
    "name": "ipython",
    "version": 3
   },
   "file_extension": ".py",
   "mimetype": "text/x-python",
   "name": "python",
   "nbconvert_exporter": "python",
   "pygments_lexer": "ipython3",
   "version": "3.10.5"
  },
  "vscode": {
   "interpreter": {
    "hash": "10800b89274ba0414ab485ea623a4beeee161107896d8c84c93f43402a78e55c"
   }
  }
 },
 "nbformat": 4,
 "nbformat_minor": 5
}
