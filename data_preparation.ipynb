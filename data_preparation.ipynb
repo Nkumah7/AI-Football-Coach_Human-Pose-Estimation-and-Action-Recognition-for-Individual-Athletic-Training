{
 "cells": [
  {
   "cell_type": "code",
   "execution_count": 1,
   "id": "0e589365-c779-46c6-99a6-27d6b3fa578c",
   "metadata": {},
   "outputs": [],
   "source": [
    "import os\n",
    "import numpy as np\n",
    "import tensorflow as tf\n",
    "from tensorflow import keras\n",
    "from sklearn.preprocessing import StandardScaler"
   ]
  },
  {
   "cell_type": "code",
   "execution_count": 2,
   "id": "e8f174ad-7ff4-434c-9397-80b6c5c23f63",
   "metadata": {},
   "outputs": [],
   "source": [
    "pose_train_data = np.load(\"train_data/encoded_data/pose_train_data.npy\")\n",
    "pose_train_labels = np.load(\"train_data/pose_train_labels.npy\")"
   ]
  },
  {
   "cell_type": "code",
   "execution_count": 3,
   "id": "6dbf8b43-d0bc-4a32-a01d-4b118f526e9f",
   "metadata": {},
   "outputs": [
    {
     "data": {
      "text/plain": [
       "((40, 30), (40,))"
      ]
     },
     "execution_count": 3,
     "metadata": {},
     "output_type": "execute_result"
    }
   ],
   "source": [
    "pose_train_data.shape, pose_train_labels.shape"
   ]
  },
  {
   "cell_type": "code",
   "execution_count": 4,
   "id": "7f7027b0-8a5a-4b03-a5ee-928946055e0d",
   "metadata": {},
   "outputs": [],
   "source": [
    "pose_val_data = np.load(\"val_data/encoded_data/pose_val_data.npy\")\n",
    "pose_val_labels = np.load(\"val_data/pose_val_labels.npy\")"
   ]
  },
  {
   "cell_type": "code",
   "execution_count": 5,
   "id": "c63aeb1c-ef33-4bf3-a360-4c73cb7b3ccb",
   "metadata": {},
   "outputs": [
    {
     "data": {
      "text/plain": [
       "((17, 30), (17,))"
      ]
     },
     "execution_count": 5,
     "metadata": {},
     "output_type": "execute_result"
    }
   ],
   "source": [
    "pose_val_data.shape, pose_val_labels.shape"
   ]
  },
  {
   "cell_type": "markdown",
   "id": "a0310cef-99e5-4a2b-a57d-ed7cbfc761fd",
   "metadata": {},
   "source": [
    "## Prepare two data representations\n",
    "\n",
    "Prepare encoded data and normalized data. Each to be used in different models "
   ]
  },
  {
   "cell_type": "markdown",
   "id": "01d5af6c-4e4c-44bf-83e9-40693cc44875",
   "metadata": {},
   "source": [
    "### 1. Encode the data\n",
    "\n",
    "Multi-hot encode the arrays to turn them to 0's and 1's to use in the model.\n",
    "\n",
    "Firstly check for the maximum nuber in the lists of sequences for the dimension:"
   ]
  },
  {
   "cell_type": "code",
   "execution_count": 57,
   "id": "6087eb78-7616-47f1-8bab-cbe7ac289cd7",
   "metadata": {},
   "outputs": [
    {
     "data": {
      "text/plain": [
       "336"
      ]
     },
     "execution_count": 57,
     "metadata": {},
     "output_type": "execute_result"
    }
   ],
   "source": [
    "max_num = max([max(sequence) for sequence in pose_train_data])\n",
    "max_num"
   ]
  },
  {
   "cell_type": "code",
   "execution_count": 147,
   "id": "4b389ffd-ff6d-4cf9-a49c-b1c66477d869",
   "metadata": {},
   "outputs": [],
   "source": [
    "def two_dim_encode_sequences(sequences, dimension):\n",
    "   \n",
    "    \n",
    "    # Initialize an all-zero matrix of shape (length of sequences by dimension of data)\n",
    "    results = np.zeros((len(sequences), dimension+1)) # +1 to include last element\n",
    "    \n",
    "    # Loop through data array\n",
    "    for i, sequence in enumerate(sequences):\n",
    "        # Loop through each sequence\n",
    "        for j in sequence:            \n",
    "            # Set specific indices in the results array to 1.\n",
    "            results[i, j] = 1.\n",
    "            \n",
    "    return results"
   ]
  },
  {
   "cell_type": "code",
   "execution_count": 150,
   "id": "2e7cf3af-8a1b-4bf9-a606-a5c9dbe48fd5",
   "metadata": {},
   "outputs": [],
   "source": [
    "def three_dim_encode_sequences(sequences, dimension):\n",
    "   \n",
    "    \n",
    "    # Initialize an all-zero matrix of shape (length of sequences by dimension of data)\n",
    "    results = np.zeros((len(sequences), 30, dimension+1)) # +1 to include last element\n",
    "    \n",
    "    # Loop through data array\n",
    "    for i, sequence in enumerate(sequences):\n",
    "        # Loop through each sequence\n",
    "        for j, s in enumerate(sequence):            \n",
    "            # Set specific indices in the results array to 1.\n",
    "            results[i, j, s] = 1.\n",
    "            \n",
    "    return results"
   ]
  },
  {
   "cell_type": "code",
   "execution_count": 151,
   "id": "59940ac9-04f6-46db-bfb0-2f848c184d75",
   "metadata": {},
   "outputs": [],
   "source": [
    "# Two dimensional encoding of train data\n",
    "two_dim_encoded_train_data = two_dim_encode_sequences(pose_train_data, max_num)\n",
    "\n",
    "# Two dimensional encoding of val data\n",
    "two_dim_encoded_val_data = two_dim_encode_sequences(pose_val_data, max_num)"
   ]
  },
  {
   "cell_type": "code",
   "execution_count": 157,
   "id": "d8aaeb61-5b4b-4879-b334-cf18d6951e85",
   "metadata": {},
   "outputs": [
    {
     "name": "stdout",
     "output_type": "stream",
     "text": [
      "Two dimensional encoded train data shape: (40, 337)\n",
      "Two dimensional Encoded val data shape: (17, 337)\n"
     ]
    }
   ],
   "source": [
    "print(f\"Two dimensional encoded train data shape: {two_dim_encoded_train_data.shape}\")\n",
    "print(f\"Two dimensional encoded val data shape: {two_dim_encoded_val_data.shape}\")"
   ]
  },
  {
   "cell_type": "code",
   "execution_count": 158,
   "id": "568356d1-8817-42cd-8446-d77c4da2b52e",
   "metadata": {},
   "outputs": [],
   "source": [
    "# Three dimensional encoding of train data\n",
    "three_dim_encoded_train_data = three_dim_encode_sequences(pose_train_data, max_num)\n",
    "\n",
    "# Three dimensional encoding of val data\n",
    "three_dim_encoded_val_data = three_dim_encode_sequences(pose_val_data, max_num)"
   ]
  },
  {
   "cell_type": "code",
   "execution_count": 159,
   "id": "aa2df304-beba-454b-bdeb-754512b85274",
   "metadata": {},
   "outputs": [
    {
     "name": "stdout",
     "output_type": "stream",
     "text": [
      "Three dimensional encoded train data shape: (40, 30, 337)\n",
      "Three dimensional Encoded val data shape: (17, 30, 337)\n"
     ]
    }
   ],
   "source": [
    "print(f\"Three dimensional encoded train data shape: {three_dim_encoded_train_data.shape}\")\n",
    "print(f\"Three dimensional encoded val data shape: {three_dim_encoded_val_data.shape}\")"
   ]
  },
  {
   "cell_type": "markdown",
   "id": "5ff240b8-3c27-4ff7-b6d5-fd64e0074d7f",
   "metadata": {},
   "source": [
    "## Save encoded data"
   ]
  },
  {
   "cell_type": "code",
   "execution_count": 7,
   "id": "ae1a6151-e522-4f45-8651-676ceb7bbcad",
   "metadata": {},
   "outputs": [],
   "source": [
    "# Save both two and three dimensional training data\n",
    "np.save(\"train_data/encoded_data/two_dim_encoded_train_data.npy\", two_dim_encoded_train_data)\n",
    "np.save(\"train_data/encoded_data/three_dim_encoded_train_data.npy\", three_dim_encoded_train_data)"
   ]
  },
  {
   "cell_type": "code",
   "execution_count": 161,
   "id": "3e50c86e-5575-433a-a234-7b3034be4cd4",
   "metadata": {},
   "outputs": [],
   "source": [
    "# Save both two and three dimensional val data\n",
    "np.save(\"val_data/encoded_data/two_dim_encoded_val_data.npy\", two_dim_encoded_val_data)\n",
    "np.save(\"val_data/encoded_data/three_dim_encoded_val_data.npy\", three_dim_encoded_val_data)"
   ]
  }
 ],
 "metadata": {
  "kernelspec": {
   "display_name": "Python 3 (ipykernel)",
   "language": "python",
   "name": "python3"
  },
  "language_info": {
   "codemirror_mode": {
    "name": "ipython",
    "version": 3
   },
   "file_extension": ".py",
   "mimetype": "text/x-python",
   "name": "python",
   "nbconvert_exporter": "python",
   "pygments_lexer": "ipython3",
   "version": "3.10.5"
  }
 },
 "nbformat": 4,
 "nbformat_minor": 5
}
