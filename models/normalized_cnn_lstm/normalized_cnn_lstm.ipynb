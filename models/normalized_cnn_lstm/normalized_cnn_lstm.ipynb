{
 "cells": [
  {
   "cell_type": "markdown",
   "id": "54e5df24-9746-4054-b313-fb73fe02007c",
   "metadata": {},
   "source": [
    "# SECOND EXPERIMENT WITH NORMALIZED DATA"
   ]
  },
  {
   "cell_type": "code",
   "execution_count": 1,
   "id": "e11528d4-346f-41d7-9f71-41cade328846",
   "metadata": {},
   "outputs": [],
   "source": [
    "import os\n",
    "import numpy as np\n",
    "import pandas as pd\n",
    "import seaborn as sns\n",
    "import matplotlib.pyplot as plt\n",
    "\n",
    "from sklearn.metrics import confusion_matrix\n",
    "from sklearn.metrics import classification_report\n",
    "\n",
    "import tensorflow as tf\n",
    "from tensorflow import keras\n",
    "from tensorflow.keras.optimizers import Adam\n",
    "from tensorflow.keras.layers import Dropout, BatchNormalization"
   ]
  },
  {
   "cell_type": "code",
   "execution_count": 2,
   "id": "0273afa5-a15e-419c-b819-64ec34b7fd1e",
   "metadata": {},
   "outputs": [],
   "source": [
    "three_dim_normalized_train_data = np.load(\"../../train_data/normalized_data/three_dim_normalized_train_data.npy\")\n",
    "train_labels = np.load(\"../../train_data/pose_train_labels.npy\")"
   ]
  },
  {
   "cell_type": "code",
   "execution_count": 3,
   "id": "143c1dd2-c079-462f-a857-125e1e020bec",
   "metadata": {},
   "outputs": [
    {
     "name": "stdout",
     "output_type": "stream",
     "text": [
      "Three dimensional normalized train data shape: (40, 15, 2)\n",
      "Train labels shape:                            (40,)\n"
     ]
    }
   ],
   "source": [
    "print(f\"Three dimensional normalized train data shape: {three_dim_normalized_train_data.shape}\")\n",
    "print(f\"Train labels shape:                            {train_labels.shape}\")"
   ]
  },
  {
   "cell_type": "code",
   "execution_count": 4,
   "id": "410a262b-1a27-4164-9b20-8320d726ca1a",
   "metadata": {},
   "outputs": [],
   "source": [
    "three_dim_normalized_val_data = np.load(\"../../val_data/normalized_data/three_dim_normalized_val_data.npy\")\n",
    "val_labels = np.load(\"../../val_data/pose_val_labels.npy\")"
   ]
  },
  {
   "cell_type": "code",
   "execution_count": 5,
   "id": "be0eac1e-588a-4431-87e8-2bff216d226a",
   "metadata": {},
   "outputs": [
    {
     "name": "stdout",
     "output_type": "stream",
     "text": [
      "Three dimensional normalized val data shape: (17, 15, 2)\n",
      "Val labels shape:                            (17,)\n"
     ]
    }
   ],
   "source": [
    "print(f\"Three dimensional normalized val data shape: {three_dim_normalized_val_data.shape}\")\n",
    "print(f\"Val labels shape:                            {val_labels.shape}\")"
   ]
  },
  {
   "cell_type": "code",
   "execution_count": 6,
   "id": "c51e8736-2d0d-48dd-b0b0-4b876536469e",
   "metadata": {},
   "outputs": [],
   "source": [
    "train_labels_str = np.array([\"Good dribbling pose\" if x==0 else \"Good juggling pose\" for x in train_labels])\n",
    "val_labels_str = np.array([\"Good dribbling pose\" if x==0 else \"Good juggling pose\" for x in val_labels])"
   ]
  },
  {
   "cell_type": "code",
   "execution_count": 7,
   "id": "957aeeb9-a9bb-408f-a7ea-7025ffbe592c",
   "metadata": {},
   "outputs": [
    {
     "data": {
      "text/html": [
       "<div>\n",
       "<style scoped>\n",
       "    .dataframe tbody tr th:only-of-type {\n",
       "        vertical-align: middle;\n",
       "    }\n",
       "\n",
       "    .dataframe tbody tr th {\n",
       "        vertical-align: top;\n",
       "    }\n",
       "\n",
       "    .dataframe thead th {\n",
       "        text-align: right;\n",
       "    }\n",
       "</style>\n",
       "<table border=\"1\" class=\"dataframe\">\n",
       "  <thead>\n",
       "    <tr style=\"text-align: right;\">\n",
       "      <th></th>\n",
       "      <th>tag</th>\n",
       "    </tr>\n",
       "  </thead>\n",
       "  <tbody>\n",
       "    <tr>\n",
       "      <th>0</th>\n",
       "      <td>Good dribbling pose</td>\n",
       "    </tr>\n",
       "    <tr>\n",
       "      <th>1</th>\n",
       "      <td>Good dribbling pose</td>\n",
       "    </tr>\n",
       "    <tr>\n",
       "      <th>2</th>\n",
       "      <td>Good dribbling pose</td>\n",
       "    </tr>\n",
       "    <tr>\n",
       "      <th>3</th>\n",
       "      <td>Good dribbling pose</td>\n",
       "    </tr>\n",
       "    <tr>\n",
       "      <th>4</th>\n",
       "      <td>Good dribbling pose</td>\n",
       "    </tr>\n",
       "  </tbody>\n",
       "</table>\n",
       "</div>"
      ],
      "text/plain": [
       "                   tag\n",
       "0  Good dribbling pose\n",
       "1  Good dribbling pose\n",
       "2  Good dribbling pose\n",
       "3  Good dribbling pose\n",
       "4  Good dribbling pose"
      ]
     },
     "execution_count": 7,
     "metadata": {},
     "output_type": "execute_result"
    }
   ],
   "source": [
    "train_labels_df = pd.DataFrame({\"tag\": train_labels_str})\n",
    "train_labels_df.head()"
   ]
  },
  {
   "cell_type": "code",
   "execution_count": 8,
   "id": "b59e3276-3b3b-44eb-ae09-272750f504bc",
   "metadata": {},
   "outputs": [
    {
     "data": {
      "text/plain": [
       "array([[ 0.36854355,  0.51322073],\n",
       "       [ 0.54746812,  0.85915534],\n",
       "       [ 0.74495985,  0.56445844],\n",
       "       [ 0.85793352,  0.87229263],\n",
       "       [ 1.20356918,  0.46580719],\n",
       "       [ 1.15558966,  0.47936631],\n",
       "       [ 0.91800434,  0.22787509],\n",
       "       [ 1.474253  ,  0.31207533],\n",
       "       [ 1.66858181,  0.44229726],\n",
       "       [ 1.3336552 ,  0.20504292],\n",
       "       [ 0.51793507,  0.31724914],\n",
       "       [-0.29871492,  0.80779409],\n",
       "       [ 0.00289765,  1.00970888],\n",
       "       [ 0.20913165,  0.55279772],\n",
       "       [ 0.80140249,  0.12219091]])"
      ]
     },
     "execution_count": 8,
     "metadata": {},
     "output_type": "execute_result"
    }
   ],
   "source": [
    "three_dim_normalized_train_data[0]"
   ]
  },
  {
   "cell_type": "markdown",
   "id": "9ad49023-a091-42fb-b406-28b159172bfb",
   "metadata": {},
   "source": [
    "## Train a Standard CNN-LSTM Model with Normalized Data"
   ]
  },
  {
   "cell_type": "code",
   "execution_count": 9,
   "id": "7ce8a77f-649d-40db-beb1-f4ddedca194d",
   "metadata": {},
   "outputs": [],
   "source": [
    "def standard_cnn_lstm():    \n",
    "    input_shape = three_dim_normalized_train_data.shape   \n",
    "    inputs = keras.Input(shape=(input_shape[1:]))\n",
    "    \n",
    "    conv = keras.layers.Conv1D(8, 3, activation='relu')(inputs)\n",
    "    lstm = keras.layers.LSTM(16, return_sequences=True, activation='relu')(conv)\n",
    "    lstm = keras.layers.LSTM(32, return_sequences=False, activation='relu')(lstm)\n",
    "    outputs = keras.layers.Dense(1, activation='sigmoid')(lstm)\n",
    "    cnn_lstm_model = keras.Model(inputs, outputs)\n",
    "    \n",
    "    # Compile the model\n",
    "    cnn_lstm_model.compile(\n",
    "        loss=\"binary_crossentropy\", \n",
    "        optimizer=Adam(learning_rate=0.001),\n",
    "        metrics=[\"accuracy\"]\n",
    "    )\n",
    "    \n",
    "    return cnn_lstm_model"
   ]
  },
  {
   "cell_type": "code",
   "execution_count": 10,
   "id": "e7bd72f0-8d2d-4387-99ff-958c4b86bad8",
   "metadata": {},
   "outputs": [
    {
     "name": "stdout",
     "output_type": "stream",
     "text": [
      "Model: \"model\"\n",
      "_________________________________________________________________\n",
      " Layer (type)                Output Shape              Param #   \n",
      "=================================================================\n",
      " input_1 (InputLayer)        [(None, 15, 2)]           0         \n",
      "                                                                 \n",
      " conv1d (Conv1D)             (None, 13, 8)             56        \n",
      "                                                                 \n",
      " lstm (LSTM)                 (None, 13, 16)            1600      \n",
      "                                                                 \n",
      " lstm_1 (LSTM)               (None, 32)                6272      \n",
      "                                                                 \n",
      " dense (Dense)               (None, 1)                 33        \n",
      "                                                                 \n",
      "=================================================================\n",
      "Total params: 7,961\n",
      "Trainable params: 7,961\n",
      "Non-trainable params: 0\n",
      "_________________________________________________________________\n"
     ]
    }
   ],
   "source": [
    "standard_cnn_lstm_model = standard_cnn_lstm()\n",
    "standard_cnn_lstm_model.summary()"
   ]
  },
  {
   "cell_type": "code",
   "execution_count": 11,
   "id": "9540e2a0-4f87-4a2c-9dd0-d58d91664ce4",
   "metadata": {},
   "outputs": [
    {
     "data": {
      "image/png": "[encoded data removed]",
      "text/plain": [
       "<IPython.core.display.Image object>"
      ]
     },
     "execution_count": 11,
     "metadata": {},
     "output_type": "execute_result"
    }
   ],
   "source": [
    "keras.utils.plot_model(standard_cnn_lstm_model, show_shapes=True)"
   ]
  },
  {
   "cell_type": "code",
   "execution_count": 12,
   "id": "0651bf9b-32ce-4145-a96e-a6b9af9a0738",
   "metadata": {},
   "outputs": [],
   "source": [
    "def run_standard_experiment():      \n",
    "    standard_cnn_lstm_model = standard_cnn_lstm()     \n",
    "    \n",
    "    checkpoint_filepath = \"training_cp/cp.ckpt\"\n",
    "    checkpoint_dir = os.path.dirname(checkpoint_filepath)\n",
    "    \n",
    "    checkpoint_callback = keras.callbacks.ModelCheckpoint(\n",
    "        checkpoint_filepath,\n",
    "        monitor=\"val_loss\",\n",
    "        save_best_only=True,\n",
    "        save_weights_only=True\n",
    "    )\n",
    "    \n",
    "    history = standard_cnn_lstm_model.fit(\n",
    "        three_dim_normalized_train_data,\n",
    "        train_labels, \n",
    "        validation_data=(three_dim_normalized_val_data, val_labels),\n",
    "        epochs=200,\n",
    "        callbacks=[\n",
    "            checkpoint_callback,\n",
    "            keras.callbacks.EarlyStopping(monitor=\"val_loss\", patience=20)\n",
    "        ]\n",
    "    )\n",
    "    \n",
    "    return history, standard_cnn_lstm_model"
   ]
  },
  {
   "cell_type": "code",
   "execution_count": 16,
   "id": "f3c0058b-b64f-4a87-a096-36260edb4760",
   "metadata": {},
   "outputs": [
    {
     "name": "stdout",
     "output_type": "stream",
     "text": [
      "Epoch 1/200\n",
      "2/2 [==============================] - 4s 559ms/step - loss: 0.6923 - accuracy: 0.5000 - val_loss: 0.6928 - val_accuracy: 0.4118\n",
      "Epoch 2/200\n",
      "2/2 [==============================] - 0s 58ms/step - loss: 0.6887 - accuracy: 0.5000 - val_loss: 0.6934 - val_accuracy: 0.4118\n",
      "Epoch 3/200\n",
      "2/2 [==============================] - 0s 50ms/step - loss: 0.6850 - accuracy: 0.5000 - val_loss: 0.6940 - val_accuracy: 0.4118\n",
      "Epoch 4/200\n",
      "2/2 [==============================] - 0s 44ms/step - loss: 0.6810 - accuracy: 0.5000 - val_loss: 0.6949 - val_accuracy: 0.4118\n",
      "Epoch 5/200\n",
      "2/2 [==============================] - 0s 51ms/step - loss: 0.6761 - accuracy: 0.5000 - val_loss: 0.6961 - val_accuracy: 0.4118\n",
      "Epoch 6/200\n",
      "2/2 [==============================] - 0s 50ms/step - loss: 0.6705 - accuracy: 0.5000 - val_loss: 0.6973 - val_accuracy: 0.4118\n",
      "Epoch 7/200\n",
      "2/2 [==============================] - 0s 44ms/step - loss: 0.6632 - accuracy: 0.5000 - val_loss: 0.6985 - val_accuracy: 0.4118\n",
      "Epoch 8/200\n",
      "2/2 [==============================] - 0s 54ms/step - loss: 0.6547 - accuracy: 0.5000 - val_loss: 0.7000 - val_accuracy: 0.4118\n",
      "Epoch 9/200\n",
      "2/2 [==============================] - 0s 45ms/step - loss: 0.6464 - accuracy: 0.5000 - val_loss: 0.7021 - val_accuracy: 0.4118\n",
      "Epoch 10/200\n",
      "2/2 [==============================] - 0s 48ms/step - loss: 0.6380 - accuracy: 0.5000 - val_loss: 0.7042 - val_accuracy: 0.4118\n",
      "Epoch 11/200\n",
      "2/2 [==============================] - 0s 47ms/step - loss: 0.6282 - accuracy: 0.5000 - val_loss: 0.7053 - val_accuracy: 0.4118\n",
      "Epoch 12/200\n",
      "2/2 [==============================] - 0s 52ms/step - loss: 0.6211 - accuracy: 0.5000 - val_loss: 0.7056 - val_accuracy: 0.4118\n",
      "Epoch 13/200\n",
      "2/2 [==============================] - 0s 54ms/step - loss: 0.6146 - accuracy: 0.5000 - val_loss: 0.7040 - val_accuracy: 0.4118\n",
      "Epoch 14/200\n",
      "2/2 [==============================] - 0s 52ms/step - loss: 0.6074 - accuracy: 0.5250 - val_loss: 0.7010 - val_accuracy: 0.4118\n",
      "Epoch 15/200\n",
      "2/2 [==============================] - 0s 56ms/step - loss: 0.6038 - accuracy: 0.5250 - val_loss: 0.6978 - val_accuracy: 0.4118\n",
      "Epoch 16/200\n",
      "2/2 [==============================] - 0s 105ms/step - loss: 0.5977 - accuracy: 0.5250 - val_loss: 0.6928 - val_accuracy: 0.4118\n",
      "Epoch 17/200\n",
      "2/2 [==============================] - 0s 85ms/step - loss: 0.5923 - accuracy: 0.5250 - val_loss: 0.6871 - val_accuracy: 0.4118\n",
      "Epoch 18/200\n",
      "2/2 [==============================] - 0s 95ms/step - loss: 0.5871 - accuracy: 0.5500 - val_loss: 0.6824 - val_accuracy: 0.4118\n",
      "Epoch 19/200\n",
      "2/2 [==============================] - 0s 103ms/step - loss: 0.5820 - accuracy: 0.5250 - val_loss: 0.6791 - val_accuracy: 0.4118\n",
      "Epoch 20/200\n",
      "2/2 [==============================] - 0s 107ms/step - loss: 0.5738 - accuracy: 0.5750 - val_loss: 0.6766 - val_accuracy: 0.4118\n",
      "Epoch 21/200\n",
      "2/2 [==============================] - 0s 109ms/step - loss: 0.5675 - accuracy: 0.5500 - val_loss: 0.6751 - val_accuracy: 0.4118\n",
      "Epoch 22/200\n",
      "2/2 [==============================] - 0s 92ms/step - loss: 0.5578 - accuracy: 0.6000 - val_loss: 0.6671 - val_accuracy: 0.4118\n",
      "Epoch 23/200\n",
      "2/2 [==============================] - 0s 106ms/step - loss: 0.5519 - accuracy: 0.7000 - val_loss: 0.6574 - val_accuracy: 0.4706\n",
      "Epoch 24/200\n",
      "2/2 [==============================] - 0s 142ms/step - loss: 0.5434 - accuracy: 0.7750 - val_loss: 0.6492 - val_accuracy: 0.4118\n",
      "Epoch 25/200\n",
      "2/2 [==============================] - 0s 96ms/step - loss: 0.5345 - accuracy: 0.8000 - val_loss: 0.6396 - val_accuracy: 0.3529\n",
      "Epoch 26/200\n",
      "2/2 [==============================] - 0s 98ms/step - loss: 0.5273 - accuracy: 0.8000 - val_loss: 0.6336 - val_accuracy: 0.3529\n",
      "Epoch 27/200\n",
      "2/2 [==============================] - 0s 98ms/step - loss: 0.5178 - accuracy: 0.8500 - val_loss: 0.6325 - val_accuracy: 0.3529\n",
      "Epoch 28/200\n",
      "2/2 [==============================] - 0s 98ms/step - loss: 0.5081 - accuracy: 0.8500 - val_loss: 0.6322 - val_accuracy: 0.3529\n",
      "Epoch 29/200\n",
      "2/2 [==============================] - 0s 105ms/step - loss: 0.5005 - accuracy: 0.8500 - val_loss: 0.6282 - val_accuracy: 0.3529\n",
      "Epoch 30/200\n",
      "2/2 [==============================] - 0s 93ms/step - loss: 0.4916 - accuracy: 0.8250 - val_loss: 0.6212 - val_accuracy: 0.4118\n",
      "Epoch 31/200\n",
      "2/2 [==============================] - 0s 103ms/step - loss: 0.4833 - accuracy: 0.8250 - val_loss: 0.6167 - val_accuracy: 0.4118\n",
      "Epoch 32/200\n",
      "2/2 [==============================] - 0s 115ms/step - loss: 0.4757 - accuracy: 0.8250 - val_loss: 0.6110 - val_accuracy: 0.4118\n",
      "Epoch 33/200\n",
      "2/2 [==============================] - 0s 110ms/step - loss: 0.4664 - accuracy: 0.8000 - val_loss: 0.6063 - val_accuracy: 0.4706\n",
      "Epoch 34/200\n",
      "2/2 [==============================] - 0s 95ms/step - loss: 0.4563 - accuracy: 0.8250 - val_loss: 0.6027 - val_accuracy: 0.5294\n",
      "Epoch 35/200\n",
      "2/2 [==============================] - 0s 105ms/step - loss: 0.4447 - accuracy: 0.8250 - val_loss: 0.6016 - val_accuracy: 0.5882\n",
      "Epoch 36/200\n",
      "2/2 [==============================] - 0s 48ms/step - loss: 0.4300 - accuracy: 0.8250 - val_loss: 0.6140 - val_accuracy: 0.5882\n",
      "Epoch 37/200\n",
      "2/2 [==============================] - 0s 46ms/step - loss: 0.4173 - accuracy: 0.8500 - val_loss: 0.6266 - val_accuracy: 0.5882\n",
      "Epoch 38/200\n",
      "2/2 [==============================] - 0s 95ms/step - loss: 0.4059 - accuracy: 0.8500 - val_loss: 0.5944 - val_accuracy: 0.5882\n",
      "Epoch 39/200\n",
      "2/2 [==============================] - 0s 88ms/step - loss: 0.3910 - accuracy: 0.8500 - val_loss: 0.5360 - val_accuracy: 0.7059\n",
      "Epoch 40/200\n",
      "2/2 [==============================] - 0s 88ms/step - loss: 0.3848 - accuracy: 0.8750 - val_loss: 0.5168 - val_accuracy: 0.7059\n",
      "Epoch 41/200\n",
      "2/2 [==============================] - 0s 60ms/step - loss: 0.3844 - accuracy: 0.8250 - val_loss: 0.5255 - val_accuracy: 0.7059\n",
      "Epoch 42/200\n",
      "2/2 [==============================] - 0s 53ms/step - loss: 0.3692 - accuracy: 0.8750 - val_loss: 0.5978 - val_accuracy: 0.5882\n",
      "Epoch 43/200\n",
      "2/2 [==============================] - 0s 68ms/step - loss: 0.3517 - accuracy: 0.8500 - val_loss: 0.7071 - val_accuracy: 0.5882\n",
      "Epoch 44/200\n",
      "2/2 [==============================] - 0s 60ms/step - loss: 0.3460 - accuracy: 0.8500 - val_loss: 0.8295 - val_accuracy: 0.5882\n",
      "Epoch 45/200\n",
      "2/2 [==============================] - 0s 54ms/step - loss: 0.3446 - accuracy: 0.8500 - val_loss: 0.9555 - val_accuracy: 0.5882\n",
      "Epoch 46/200\n",
      "2/2 [==============================] - 0s 53ms/step - loss: 0.3377 - accuracy: 0.8500 - val_loss: 1.0380 - val_accuracy: 0.5882\n",
      "Epoch 47/200\n",
      "2/2 [==============================] - 0s 53ms/step - loss: 0.3309 - accuracy: 0.8500 - val_loss: 1.0088 - val_accuracy: 0.5882\n",
      "Epoch 48/200\n",
      "2/2 [==============================] - 0s 54ms/step - loss: 0.3122 - accuracy: 0.8500 - val_loss: 0.9577 - val_accuracy: 0.5882\n",
      "Epoch 49/200\n",
      "2/2 [==============================] - 0s 49ms/step - loss: 0.3003 - accuracy: 0.8750 - val_loss: 0.9593 - val_accuracy: 0.5882\n",
      "Epoch 50/200\n",
      "2/2 [==============================] - 0s 57ms/step - loss: 0.2998 - accuracy: 0.8750 - val_loss: 1.1006 - val_accuracy: 0.5882\n",
      "Epoch 51/200\n",
      "2/2 [==============================] - 0s 50ms/step - loss: 0.2804 - accuracy: 0.8750 - val_loss: 1.6012 - val_accuracy: 0.5294\n",
      "Epoch 52/200\n",
      "2/2 [==============================] - 0s 56ms/step - loss: 0.2776 - accuracy: 0.9000 - val_loss: 2.3673 - val_accuracy: 0.5294\n",
      "Epoch 53/200\n",
      "2/2 [==============================] - 0s 53ms/step - loss: 0.2958 - accuracy: 0.8500 - val_loss: 2.2416 - val_accuracy: 0.5882\n",
      "Epoch 54/200\n",
      "2/2 [==============================] - 0s 54ms/step - loss: 0.2698 - accuracy: 0.9000 - val_loss: 1.5732 - val_accuracy: 0.5882\n",
      "Epoch 55/200\n",
      "2/2 [==============================] - 0s 56ms/step - loss: 0.2652 - accuracy: 0.9000 - val_loss: 1.6968 - val_accuracy: 0.5882\n",
      "Epoch 56/200\n",
      "2/2 [==============================] - 0s 51ms/step - loss: 0.2551 - accuracy: 0.9000 - val_loss: 2.6658 - val_accuracy: 0.5882\n",
      "Epoch 57/200\n",
      "2/2 [==============================] - 0s 54ms/step - loss: 0.2476 - accuracy: 0.9000 - val_loss: 3.7256 - val_accuracy: 0.5294\n",
      "Epoch 58/200\n",
      "2/2 [==============================] - 0s 59ms/step - loss: 0.3064 - accuracy: 0.9000 - val_loss: 2.8227 - val_accuracy: 0.5882\n",
      "Epoch 59/200\n",
      "2/2 [==============================] - 0s 60ms/step - loss: 0.2578 - accuracy: 0.8750 - val_loss: 1.1479 - val_accuracy: 0.5882\n",
      "Epoch 60/200\n",
      "2/2 [==============================] - 0s 47ms/step - loss: 0.2767 - accuracy: 0.8750 - val_loss: 0.7830 - val_accuracy: 0.6471\n"
     ]
    }
   ],
   "source": [
    "standard_cnn_lstm_history, standard_cnn_lstm_model = run_standard_experiment()"
   ]
  },
  {
   "cell_type": "markdown",
   "id": "bdc29a47-59f0-41db-a8ea-f130e85c8ea1",
   "metadata": {},
   "source": [
    "## Performance Measures"
   ]
  },
  {
   "cell_type": "markdown",
   "id": "df089222-4c61-4c2a-aa8a-87980328bb4d",
   "metadata": {},
   "source": [
    "#### Load saved best model and evaluate"
   ]
  },
  {
   "cell_type": "markdown",
   "id": "f3c6297f-c21d-466f-aff4-06eb03e64608",
   "metadata": {},
   "source": [
    "Load the weights from checkpoint and evaluate:"
   ]
  },
  {
   "cell_type": "code",
   "execution_count": 17,
   "id": "5f033b96-45a3-47d7-aa26-c9a667f329ef",
   "metadata": {},
   "outputs": [
    {
     "data": {
      "text/plain": [
       "<tensorflow.python.checkpoint.checkpoint.CheckpointLoadStatus at 0x24f9b6f0040>"
      ]
     },
     "execution_count": 17,
     "metadata": {},
     "output_type": "execute_result"
    }
   ],
   "source": [
    "# Load weights \n",
    "standard_cnn_lstm_model.load_weights(f\"training_cp/cp.ckpt\")"
   ]
  },
  {
   "cell_type": "code",
   "execution_count": 18,
   "id": "1ded2efe-8f27-4f37-ac3d-2e0cc2e374c4",
   "metadata": {},
   "outputs": [
    {
     "name": "stdout",
     "output_type": "stream",
     "text": [
      "1/1 - 0s - loss: 0.5168 - accuracy: 0.7059 - 31ms/epoch - 31ms/step\n",
      "\n",
      "Best Accuracy and Loss:\n",
      "\n",
      "Accuracy: 70.59%\n",
      "Loss: 0.5168328285217285%\n"
     ]
    }
   ],
   "source": [
    "loss, acc = standard_cnn_lstm_model.evaluate(three_dim_normalized_val_data, val_labels, verbose=2)\n",
    "print(\"\\nBest Accuracy and Loss:\\n\")\n",
    "print(\"Accuracy:\", f\"{round(acc * 100, 2)}%\")\n",
    "print(\"Loss:\", f\"{loss}%\")"
   ]
  },
  {
   "cell_type": "code",
   "execution_count": 19,
   "id": "f67426df-95d0-45c4-a8f9-96ef3dfac52e",
   "metadata": {},
   "outputs": [
    {
     "name": "stdout",
     "output_type": "stream",
     "text": [
      "1/1 [==============================] - 0s 411ms/step\n"
     ]
    }
   ],
   "source": [
    "preds = standard_cnn_lstm_model.predict(three_dim_normalized_val_data)"
   ]
  },
  {
   "cell_type": "code",
   "execution_count": 20,
   "id": "3272e383-2960-4814-b802-3de31b3a6f2f",
   "metadata": {},
   "outputs": [],
   "source": [
    "actual = val_labels\n",
    "predicted = tf.round(preds)"
   ]
  },
  {
   "cell_type": "markdown",
   "id": "0e44ec75-883c-46fb-9e26-969de230e8e6",
   "metadata": {},
   "source": [
    "#### Confusion Matrix"
   ]
  },
  {
   "cell_type": "code",
   "execution_count": 21,
   "id": "2745e580-ab07-4585-bfb4-0c8527e96431",
   "metadata": {},
   "outputs": [
    {
     "name": "stdout",
     "output_type": "stream",
     "text": [
      "Confusion matrix\n",
      "\n",
      " [[4 3]\n",
      " [2 8]]\n"
     ]
    }
   ],
   "source": [
    "cm = confusion_matrix(actual, predicted)\n",
    "\n",
    "print('Confusion matrix\\n\\n', cm)"
   ]
  },
  {
   "cell_type": "code",
   "execution_count": 22,
   "id": "6cf19041-64f0-4b28-8f74-9fe824207ffb",
   "metadata": {},
   "outputs": [
    {
     "data": {
      "text/plain": [
       "<AxesSubplot:>"
      ]
     },
     "execution_count": 22,
     "metadata": {},
     "output_type": "execute_result"
    },
    {
     "data": {
      "image/png": "[encoded data removed]",
      "text/plain": [
       "<Figure size 432x288 with 2 Axes>"
      ]
     },
     "metadata": {},
     "output_type": "display_data"
    }
   ],
   "source": [
    "# Visualize confusion matrix with seaborn heatmap\n",
    "\n",
    "cm_matrix = pd.DataFrame(data=cm, columns=['Good dribbling pose', 'Good juggling pose'], \n",
    "                                 index=['Good dribbling pose', 'Good juggling pose'])\n",
    "\n",
    "sns.set(rc={'figure.figsize':(6, 4)})\n",
    "sns.set(font_scale=1.4)\n",
    "sns.heatmap(cm_matrix, annot=True, fmt='d', cmap='YlGnBu')"
   ]
  },
  {
   "cell_type": "markdown",
   "id": "0c26423e-7aa9-4ba7-894a-ddff6a970f4f",
   "metadata": {},
   "source": [
    "#### Classification Report"
   ]
  },
  {
   "cell_type": "code",
   "execution_count": 23,
   "id": "3dcc88a7-f076-4461-9a70-b3f1b828468e",
   "metadata": {},
   "outputs": [
    {
     "name": "stdout",
     "output_type": "stream",
     "text": [
      "              precision    recall  f1-score   support\n",
      "\n",
      "           0       0.67      0.57      0.62         7\n",
      "           1       0.73      0.80      0.76        10\n",
      "\n",
      "    accuracy                           0.71        17\n",
      "   macro avg       0.70      0.69      0.69        17\n",
      "weighted avg       0.70      0.71      0.70        17\n",
      "\n"
     ]
    }
   ],
   "source": [
    "# Classification report\n",
    "print(classification_report(actual, predicted))"
   ]
  },
  {
   "cell_type": "markdown",
   "id": "87d27176-a2db-4dd0-82a4-c4c7be6d9d8f",
   "metadata": {},
   "source": [
    "#### Create DataFrame to Plot Training Accuracy and Loss "
   ]
  },
  {
   "cell_type": "code",
   "execution_count": 24,
   "id": "f4b48705-6a19-4140-b1e1-4923feb86817",
   "metadata": {},
   "outputs": [
    {
     "data": {
      "text/html": [
       "<div>\n",
       "<style scoped>\n",
       "    .dataframe tbody tr th:only-of-type {\n",
       "        vertical-align: middle;\n",
       "    }\n",
       "\n",
       "    .dataframe tbody tr th {\n",
       "        vertical-align: top;\n",
       "    }\n",
       "\n",
       "    .dataframe thead th {\n",
       "        text-align: right;\n",
       "    }\n",
       "</style>\n",
       "<table border=\"1\" class=\"dataframe\">\n",
       "  <thead>\n",
       "    <tr style=\"text-align: right;\">\n",
       "      <th></th>\n",
       "      <th>loss</th>\n",
       "      <th>accuracy</th>\n",
       "      <th>val_loss</th>\n",
       "      <th>val_accuracy</th>\n",
       "    </tr>\n",
       "  </thead>\n",
       "  <tbody>\n",
       "    <tr>\n",
       "      <th>0</th>\n",
       "      <td>0.692291</td>\n",
       "      <td>0.5</td>\n",
       "      <td>0.692808</td>\n",
       "      <td>0.411765</td>\n",
       "    </tr>\n",
       "    <tr>\n",
       "      <th>1</th>\n",
       "      <td>0.688714</td>\n",
       "      <td>0.5</td>\n",
       "      <td>0.693444</td>\n",
       "      <td>0.411765</td>\n",
       "    </tr>\n",
       "    <tr>\n",
       "      <th>2</th>\n",
       "      <td>0.684994</td>\n",
       "      <td>0.5</td>\n",
       "      <td>0.693982</td>\n",
       "      <td>0.411765</td>\n",
       "    </tr>\n",
       "    <tr>\n",
       "      <th>3</th>\n",
       "      <td>0.680968</td>\n",
       "      <td>0.5</td>\n",
       "      <td>0.694947</td>\n",
       "      <td>0.411765</td>\n",
       "    </tr>\n",
       "    <tr>\n",
       "      <th>4</th>\n",
       "      <td>0.676080</td>\n",
       "      <td>0.5</td>\n",
       "      <td>0.696097</td>\n",
       "      <td>0.411765</td>\n",
       "    </tr>\n",
       "  </tbody>\n",
       "</table>\n",
       "</div>"
      ],
      "text/plain": [
       "       loss  accuracy  val_loss  val_accuracy\n",
       "0  0.692291       0.5  0.692808      0.411765\n",
       "1  0.688714       0.5  0.693444      0.411765\n",
       "2  0.684994       0.5  0.693982      0.411765\n",
       "3  0.680968       0.5  0.694947      0.411765\n",
       "4  0.676080       0.5  0.696097      0.411765"
      ]
     },
     "execution_count": 24,
     "metadata": {},
     "output_type": "execute_result"
    }
   ],
   "source": [
    "standard_cnn_lstm_hist = pd.DataFrame(standard_cnn_lstm_history.history)\n",
    "standard_cnn_lstm_hist.head()"
   ]
  },
  {
   "cell_type": "code",
   "execution_count": 25,
   "id": "9f73e785-5a8d-4b09-b5d8-05351cedfddc",
   "metadata": {},
   "outputs": [],
   "source": [
    "# !mkdir plots"
   ]
  },
  {
   "cell_type": "markdown",
   "id": "9834362e-dce3-45e2-bc7c-3d267e6fb494",
   "metadata": {},
   "source": [
    "#### Plot Training Accuracy and Loss"
   ]
  },
  {
   "cell_type": "code",
   "execution_count": 26,
   "id": "0092880d-6774-49c3-a4d1-0cb4d2e9f63d",
   "metadata": {},
   "outputs": [
    {
     "data": {
      "image/png": "[encoded data removed]",
      "text/plain": [
       "<Figure size 432x288 with 1 Axes>"
      ]
     },
     "metadata": {},
     "output_type": "display_data"
    }
   ],
   "source": [
    "acc_loss = standard_cnn_lstm_hist[[\"accuracy\", \"loss\"]]\n",
    "acc_loss.plot(title='Training Accuracy and Loss')\n",
    "plt.xlabel(\"epochs\")\n",
    "plt.savefig(\"plots/Standard CNN-LSTM Training Accuracy and Loss\")"
   ]
  },
  {
   "cell_type": "markdown",
   "id": "de682f0f-48e2-4082-885a-b7d93620b6a7",
   "metadata": {},
   "source": [
    "#### Plot Validation Accuracy and Loss "
   ]
  },
  {
   "cell_type": "code",
   "execution_count": 27,
   "id": "5e81e4ca-3edf-4d94-b37f-b8a4170aed6e",
   "metadata": {},
   "outputs": [
    {
     "data": {
      "image/png": "[encoded data removed]",
      "text/plain": [
       "<Figure size 432x288 with 1 Axes>"
      ]
     },
     "metadata": {},
     "output_type": "display_data"
    }
   ],
   "source": [
    "val_acc_loss = standard_cnn_lstm_hist[[\"val_accuracy\", \"val_loss\"]]\n",
    "val_acc_loss.plot(title='Validation Accuracy and Loss')\n",
    "plt.xlabel(\"epochs\")\n",
    "plt.savefig(\"plots/Standard CNN-LSTM Validation Accuracy and Loss\")"
   ]
  },
  {
   "cell_type": "markdown",
   "id": "d9d3f583-599e-47b2-8c11-bd6a92d0e7c5",
   "metadata": {},
   "source": [
    "## Save the model"
   ]
  },
  {
   "cell_type": "code",
   "execution_count": 28,
   "id": "1bcb6004-04e3-40a2-9c8b-d0d09915f4da",
   "metadata": {},
   "outputs": [],
   "source": [
    "# !mkdir saved_normalized_cnn_lstm_model"
   ]
  },
  {
   "cell_type": "code",
   "execution_count": 29,
   "id": "f0b276f4-8c75-4d0b-8c7d-87cdf447f03c",
   "metadata": {},
   "outputs": [],
   "source": [
    "standard_cnn_lstm_model.save('saved_normalized_cnn_lstm_model/standard_cnn_lstm_model.h5')"
   ]
  }
 ],
 "metadata": {
  "kernelspec": {
   "display_name": "Python 3 (ipykernel)",
   "language": "python",
   "name": "python3"
  },
  "language_info": {
   "codemirror_mode": {
    "name": "ipython",
    "version": 3
   },
   "file_extension": ".py",
   "mimetype": "text/x-python",
   "name": "python",
   "nbconvert_exporter": "python",
   "pygments_lexer": "ipython3",
   "version": "3.10.5"
  }
 },
 "nbformat": 4,
 "nbformat_minor": 5
}
