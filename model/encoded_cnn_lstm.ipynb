{
 "cells": [
  {
   "cell_type": "code",
   "execution_count": 136,
   "id": "62ce8686-e68a-4578-83e8-e79ddab93f61",
   "metadata": {},
   "outputs": [],
   "source": [
    "# !pip install -q git+https://github.com/tensorflow/docs"
   ]
  },
  {
   "cell_type": "code",
   "execution_count": 202,
   "id": "d4c1e3ed-0a94-419e-9ad8-b06736b02df2",
   "metadata": {},
   "outputs": [],
   "source": [
    "import os\n",
    "import cv2\n",
    "import json\n",
    "import time\n",
    "import math\n",
    "import copy\n",
    "import random\n",
    "import imageio\n",
    "import mediapipe as mp\n",
    "\n",
    "import numpy as np\n",
    "import pandas as pd\n",
    "import seaborn as sns\n",
    "import matplotlib.pyplot as plt\n",
    "\n",
    "from sklearn.metrics import confusion_matrix\n",
    "from sklearn.metrics import classification_report\n",
    "\n",
    "import tensorflow as tf\n",
    "from tensorflow import keras\n",
    "from tensorflow_docs.vis import embed\n",
    "from tensorflow.keras.optimizers import Adam\n",
    "from tensorflow.keras.layers import Dropout, BatchNormalization"
   ]
  },
  {
   "cell_type": "code",
   "execution_count": 2,
   "id": "4651922b-9d8f-4816-9e18-9197324f2f87",
   "metadata": {},
   "outputs": [],
   "source": [
    "three_dim_encoded_train_data = np.load(\"../train_data/encoded_data/three_dim_encoded_train_data.npy\")\n",
    "train_labels = np.load(\"../train_data/pose_train_labels.npy\")"
   ]
  },
  {
   "cell_type": "code",
   "execution_count": 3,
   "id": "10ba8f82-ec19-488e-87e6-4e772d1de26e",
   "metadata": {
    "tags": []
   },
   "outputs": [
    {
     "name": "stdout",
     "output_type": "stream",
     "text": [
      "Three dimensional encoded train data shape: (40, 30, 337)\n",
      "Train labels shape:                         (40,)\n"
     ]
    }
   ],
   "source": [
    "print(f\"Three dimensional encoded train data shape: {three_dim_encoded_train_data.shape}\")\n",
    "print(f\"Train labels shape:                         {train_labels.shape}\")"
   ]
  },
  {
   "cell_type": "code",
   "execution_count": 4,
   "id": "e892914a-7f30-4a69-8e28-f73357dbda20",
   "metadata": {},
   "outputs": [],
   "source": [
    "three_dim_encoded_val_data = np.load(\"../val_data/encoded_data/three_dim_encoded_val_data.npy\")\n",
    "val_labels = np.load(\"../val_data/pose_val_labels.npy\")"
   ]
  },
  {
   "cell_type": "code",
   "execution_count": 5,
   "id": "11732a3a-57fe-4426-9534-ef7f26b342c6",
   "metadata": {},
   "outputs": [
    {
     "name": "stdout",
     "output_type": "stream",
     "text": [
      "Three dimensional encoded val data shape: (17, 30, 337)\n",
      "Val labels shape:                         (17,)\n"
     ]
    }
   ],
   "source": [
    "print(f\"Three dimensional encoded val data shape: {three_dim_encoded_val_data.shape}\")\n",
    "print(f\"Val labels shape:                         {val_labels.shape}\")"
   ]
  },
  {
   "cell_type": "code",
   "execution_count": 6,
   "id": "bb0016a6-d293-4f6e-b2e6-c70d461d6973",
   "metadata": {},
   "outputs": [],
   "source": [
    "train_labels_str = np.array([\"Good dribbling pose\" if x==0 else \"Good juggling pose\" for x in train_labels])\n",
    "val_labels_str = np.array([\"Good dribbling pose\" if x==0 else \"Good juggling pose\" for x in val_labels])"
   ]
  },
  {
   "cell_type": "code",
   "execution_count": 7,
   "id": "1bed5705-c7e3-441e-af30-65fbdd6ba749",
   "metadata": {},
   "outputs": [
    {
     "data": {
      "text/html": [
       "<div>\n",
       "<style scoped>\n",
       "    .dataframe tbody tr th:only-of-type {\n",
       "        vertical-align: middle;\n",
       "    }\n",
       "\n",
       "    .dataframe tbody tr th {\n",
       "        vertical-align: top;\n",
       "    }\n",
       "\n",
       "    .dataframe thead th {\n",
       "        text-align: right;\n",
       "    }\n",
       "</style>\n",
       "<table border=\"1\" class=\"dataframe\">\n",
       "  <thead>\n",
       "    <tr style=\"text-align: right;\">\n",
       "      <th></th>\n",
       "      <th>tag</th>\n",
       "    </tr>\n",
       "  </thead>\n",
       "  <tbody>\n",
       "    <tr>\n",
       "      <th>0</th>\n",
       "      <td>Good dribbling pose</td>\n",
       "    </tr>\n",
       "    <tr>\n",
       "      <th>1</th>\n",
       "      <td>Good dribbling pose</td>\n",
       "    </tr>\n",
       "    <tr>\n",
       "      <th>2</th>\n",
       "      <td>Good dribbling pose</td>\n",
       "    </tr>\n",
       "    <tr>\n",
       "      <th>3</th>\n",
       "      <td>Good dribbling pose</td>\n",
       "    </tr>\n",
       "    <tr>\n",
       "      <th>4</th>\n",
       "      <td>Good dribbling pose</td>\n",
       "    </tr>\n",
       "  </tbody>\n",
       "</table>\n",
       "</div>"
      ],
      "text/plain": [
       "                   tag\n",
       "0  Good dribbling pose\n",
       "1  Good dribbling pose\n",
       "2  Good dribbling pose\n",
       "3  Good dribbling pose\n",
       "4  Good dribbling pose"
      ]
     },
     "execution_count": 7,
     "metadata": {},
     "output_type": "execute_result"
    }
   ],
   "source": [
    "train_labels_df = pd.DataFrame({\"tag\": train_labels_str})\n",
    "train_labels_df.head()"
   ]
  },
  {
   "cell_type": "code",
   "execution_count": 8,
   "id": "67f87f5d-22e4-4e31-ad79-66bee3a73303",
   "metadata": {},
   "outputs": [],
   "source": [
    "def process_label(data):    \n",
    "    label_processor = keras.layers.StringLookup(\n",
    "        num_oov_indices=0, vocabulary=np.unique(data)\n",
    "    )\n",
    "    \n",
    "    return label_processor"
   ]
  },
  {
   "cell_type": "code",
   "execution_count": 9,
   "id": "30fc6317-2331-4ead-958b-3d4d08372364",
   "metadata": {},
   "outputs": [
    {
     "data": {
      "text/plain": [
       "['Good dribbling pose', 'Good juggling pose']"
      ]
     },
     "execution_count": 9,
     "metadata": {},
     "output_type": "execute_result"
    }
   ],
   "source": [
    "train_label_processor = process_label(train_labels_df[\"tag\"])\n",
    "train_label_processor.get_vocabulary()"
   ]
  },
  {
   "cell_type": "code",
   "execution_count": 10,
   "id": "62d8a611-415e-4e42-8448-85f89dad0ae2",
   "metadata": {},
   "outputs": [
    {
     "data": {
      "text/plain": [
       "array([[0., 0., 0., ..., 0., 0., 0.],\n",
       "       [0., 0., 0., ..., 0., 0., 0.],\n",
       "       [0., 0., 0., ..., 0., 0., 0.],\n",
       "       ...,\n",
       "       [0., 0., 0., ..., 0., 0., 0.],\n",
       "       [0., 0., 0., ..., 0., 0., 0.],\n",
       "       [0., 0., 0., ..., 0., 0., 0.]])"
      ]
     },
     "execution_count": 10,
     "metadata": {},
     "output_type": "execute_result"
    }
   ],
   "source": [
    "three_dim_encoded_train_data[0]"
   ]
  },
  {
   "cell_type": "markdown",
   "id": "ad83ca5f-062e-4fc1-9f08-a024ad3ee484",
   "metadata": {},
   "source": [
    "## Train a Standard CNN-LSTM Model with Encoded Data"
   ]
  },
  {
   "cell_type": "code",
   "execution_count": 35,
   "id": "847ce87b-d666-4979-95a6-b8832b86a9f0",
   "metadata": {},
   "outputs": [],
   "source": [
    "def standard_cnn_lstm():    \n",
    "    input_shape = three_dim_encoded_train_data.shape   \n",
    "    inputs = keras.Input(shape=(input_shape[1:]))\n",
    "    \n",
    "    conv = keras.layers.Conv1D(8, 3, activation='relu')(inputs)\n",
    "    lstm = keras.layers.LSTM(16, return_sequences=True, activation='relu')(conv)\n",
    "    lstm = keras.layers.LSTM(32, return_sequences=False, activation='relu')(lstm)\n",
    "    outputs = keras.layers.Dense(1, activation='sigmoid')(lstm)\n",
    "    cnn_lstm_model = keras.Model(inputs, outputs)\n",
    "    \n",
    "    # Compile the model\n",
    "    cnn_lstm_model.compile(\n",
    "        loss=\"binary_crossentropy\", \n",
    "        optimizer=Adam(learning_rate=0.001),\n",
    "        metrics=[\"accuracy\"]\n",
    "    )\n",
    "    \n",
    "    return cnn_lstm_model"
   ]
  },
  {
   "cell_type": "code",
   "execution_count": 36,
   "id": "d23a4042-efa9-45a7-9385-f98b74df2c3d",
   "metadata": {},
   "outputs": [
    {
     "name": "stdout",
     "output_type": "stream",
     "text": [
      "Model: \"model_7\"\n",
      "_________________________________________________________________\n",
      " Layer (type)                Output Shape              Param #   \n",
      "=================================================================\n",
      " input_8 (InputLayer)        [(None, 30, 337)]         0         \n",
      "                                                                 \n",
      " conv1d_7 (Conv1D)           (None, 28, 8)             8096      \n",
      "                                                                 \n",
      " lstm_14 (LSTM)              (None, 28, 16)            1600      \n",
      "                                                                 \n",
      " lstm_15 (LSTM)              (None, 32)                6272      \n",
      "                                                                 \n",
      " dense_7 (Dense)             (None, 1)                 33        \n",
      "                                                                 \n",
      "=================================================================\n",
      "Total params: 16,001\n",
      "Trainable params: 16,001\n",
      "Non-trainable params: 0\n",
      "_________________________________________________________________\n"
     ]
    }
   ],
   "source": [
    "standard_cnn_lstm_model = standard_cnn_lstm()\n",
    "standard_cnn_lstm_model.summary()"
   ]
  },
  {
   "cell_type": "code",
   "execution_count": 37,
   "id": "abc7a6b5-31bd-4b25-8b10-71175009be09",
   "metadata": {},
   "outputs": [
    {
     "data": {
      "image/png": "[encoded data removed]",
      "text/plain": [
       "<IPython.core.display.Image object>"
      ]
     },
     "execution_count": 37,
     "metadata": {},
     "output_type": "execute_result"
    }
   ],
   "source": [
    "keras.utils.plot_model(standard_cnn_lstm_model, show_shapes=True)"
   ]
  },
  {
   "cell_type": "code",
   "execution_count": 38,
   "id": "3b97d4a7-1e82-4ae7-ad1a-ccefef69096f",
   "metadata": {
    "tags": []
   },
   "outputs": [],
   "source": [
    "def run_standard_experiment():      \n",
    "    standard_cnn_lstm_model = standard_cnn_lstm()     \n",
    "    \n",
    "    checkpoint_filepath = \"training_cp/cp\"\n",
    "    checkpoint_dir = os.path.dirname(checkpoint_filepath)\n",
    "    \n",
    "    checkpoint_callback = keras.callbacks.ModelCheckpoint(\n",
    "        checkpoint_filepath,\n",
    "        monitor=\"val_loss\",\n",
    "        save_best_only=True,\n",
    "        save_weights_only=True\n",
    "    )\n",
    "    \n",
    "    history = standard_cnn_lstm_model.fit(\n",
    "        three_dim_encoded_train_data,\n",
    "        train_labels, \n",
    "        validation_data=(three_dim_encoded_val_data, val_labels),\n",
    "        epochs=200,\n",
    "        callbacks=[\n",
    "            checkpoint_callback,\n",
    "            keras.callbacks.EarlyStopping(monitor=\"val_loss\", patience=20)\n",
    "        ]\n",
    "    )\n",
    "    \n",
    "    return history, standard_cnn_lstm_model"
   ]
  },
  {
   "cell_type": "code",
   "execution_count": 77,
   "id": "4d2a0e2d-9bc7-4074-b26c-0d806b540be5",
   "metadata": {},
   "outputs": [
    {
     "name": "stdout",
     "output_type": "stream",
     "text": [
      "Epoch 1/200\n",
      "2/2 [==============================] - 3s 554ms/step - loss: 0.6932 - accuracy: 0.5000 - val_loss: 0.6928 - val_accuracy: 0.6471\n",
      "Epoch 2/200\n",
      "2/2 [==============================] - 0s 121ms/step - loss: 0.6929 - accuracy: 0.6750 - val_loss: 0.6928 - val_accuracy: 0.7059\n",
      "Epoch 3/200\n",
      "2/2 [==============================] - 0s 118ms/step - loss: 0.6927 - accuracy: 0.6750 - val_loss: 0.6926 - val_accuracy: 0.7059\n",
      "Epoch 4/200\n",
      "2/2 [==============================] - 0s 113ms/step - loss: 0.6925 - accuracy: 0.5750 - val_loss: 0.6922 - val_accuracy: 0.5882\n",
      "Epoch 5/200\n",
      "2/2 [==============================] - 0s 123ms/step - loss: 0.6922 - accuracy: 0.5000 - val_loss: 0.6919 - val_accuracy: 0.5882\n",
      "Epoch 6/200\n",
      "2/2 [==============================] - 0s 117ms/step - loss: 0.6919 - accuracy: 0.5500 - val_loss: 0.6915 - val_accuracy: 0.5882\n",
      "Epoch 7/200\n",
      "2/2 [==============================] - 0s 124ms/step - loss: 0.6916 - accuracy: 0.5000 - val_loss: 0.6909 - val_accuracy: 0.5882\n",
      "Epoch 8/200\n",
      "2/2 [==============================] - 0s 138ms/step - loss: 0.6911 - accuracy: 0.5000 - val_loss: 0.6907 - val_accuracy: 0.5882\n",
      "Epoch 9/200\n",
      "2/2 [==============================] - 0s 137ms/step - loss: 0.6906 - accuracy: 0.5750 - val_loss: 0.6905 - val_accuracy: 0.6471\n",
      "Epoch 10/200\n",
      "2/2 [==============================] - 0s 139ms/step - loss: 0.6902 - accuracy: 0.7250 - val_loss: 0.6900 - val_accuracy: 0.6471\n",
      "Epoch 11/200\n",
      "2/2 [==============================] - 0s 147ms/step - loss: 0.6894 - accuracy: 0.7000 - val_loss: 0.6890 - val_accuracy: 0.5882\n",
      "Epoch 12/200\n",
      "2/2 [==============================] - 0s 164ms/step - loss: 0.6885 - accuracy: 0.6000 - val_loss: 0.6876 - val_accuracy: 0.5882\n",
      "Epoch 13/200\n",
      "2/2 [==============================] - 0s 148ms/step - loss: 0.6874 - accuracy: 0.5500 - val_loss: 0.6860 - val_accuracy: 0.5882\n",
      "Epoch 14/200\n",
      "2/2 [==============================] - 0s 152ms/step - loss: 0.6864 - accuracy: 0.5000 - val_loss: 0.6840 - val_accuracy: 0.5882\n",
      "Epoch 15/200\n",
      "2/2 [==============================] - 0s 154ms/step - loss: 0.6845 - accuracy: 0.5000 - val_loss: 0.6816 - val_accuracy: 0.5882\n",
      "Epoch 16/200\n",
      "2/2 [==============================] - 0s 158ms/step - loss: 0.6826 - accuracy: 0.5000 - val_loss: 0.6786 - val_accuracy: 0.5882\n",
      "Epoch 17/200\n",
      "2/2 [==============================] - 0s 158ms/step - loss: 0.6798 - accuracy: 0.5000 - val_loss: 0.6752 - val_accuracy: 0.5882\n",
      "Epoch 18/200\n",
      "2/2 [==============================] - 0s 146ms/step - loss: 0.6761 - accuracy: 0.5750 - val_loss: 0.6709 - val_accuracy: 0.5882\n",
      "Epoch 19/200\n",
      "2/2 [==============================] - 0s 143ms/step - loss: 0.6717 - accuracy: 0.5750 - val_loss: 0.6650 - val_accuracy: 0.6471\n",
      "Epoch 20/200\n",
      "2/2 [==============================] - 0s 144ms/step - loss: 0.6660 - accuracy: 0.6750 - val_loss: 0.6571 - val_accuracy: 0.7059\n",
      "Epoch 21/200\n",
      "2/2 [==============================] - 0s 146ms/step - loss: 0.6583 - accuracy: 0.6750 - val_loss: 0.6467 - val_accuracy: 0.7647\n",
      "Epoch 22/200\n",
      "2/2 [==============================] - 0s 143ms/step - loss: 0.6481 - accuracy: 0.7000 - val_loss: 0.6315 - val_accuracy: 0.7647\n",
      "Epoch 23/200\n",
      "2/2 [==============================] - 0s 145ms/step - loss: 0.6322 - accuracy: 0.7000 - val_loss: 0.6094 - val_accuracy: 0.7647\n",
      "Epoch 24/200\n",
      "2/2 [==============================] - 0s 151ms/step - loss: 0.6142 - accuracy: 0.7000 - val_loss: 0.5762 - val_accuracy: 0.7647\n",
      "Epoch 25/200\n",
      "2/2 [==============================] - 0s 168ms/step - loss: 0.5900 - accuracy: 0.7000 - val_loss: 0.5346 - val_accuracy: 0.7647\n",
      "Epoch 26/200\n",
      "2/2 [==============================] - 0s 168ms/step - loss: 0.5542 - accuracy: 0.7000 - val_loss: 0.4820 - val_accuracy: 0.7059\n",
      "Epoch 27/200\n",
      "2/2 [==============================] - 0s 165ms/step - loss: 0.5232 - accuracy: 0.7250 - val_loss: 0.4237 - val_accuracy: 0.7647\n",
      "Epoch 28/200\n",
      "2/2 [==============================] - 0s 152ms/step - loss: 0.5755 - accuracy: 0.7250 - val_loss: 0.4146 - val_accuracy: 0.7647\n",
      "Epoch 29/200\n",
      "2/2 [==============================] - 0s 103ms/step - loss: 0.5069 - accuracy: 0.8750 - val_loss: 0.4677 - val_accuracy: 0.8235\n",
      "Epoch 30/200\n",
      "2/2 [==============================] - 0s 93ms/step - loss: 0.4888 - accuracy: 0.9000 - val_loss: 0.5088 - val_accuracy: 0.9412\n",
      "Epoch 31/200\n",
      "2/2 [==============================] - 0s 81ms/step - loss: 0.4998 - accuracy: 0.9000 - val_loss: 0.5261 - val_accuracy: 0.9412\n",
      "Epoch 32/200\n",
      "2/2 [==============================] - 0s 89ms/step - loss: 0.5060 - accuracy: 0.9250 - val_loss: 0.5271 - val_accuracy: 0.9412\n",
      "Epoch 33/200\n",
      "2/2 [==============================] - 0s 101ms/step - loss: 0.5009 - accuracy: 0.9250 - val_loss: 0.5128 - val_accuracy: 0.9412\n",
      "Epoch 34/200\n",
      "2/2 [==============================] - 0s 83ms/step - loss: 0.4867 - accuracy: 0.9250 - val_loss: 0.4861 - val_accuracy: 0.9412\n",
      "Epoch 35/200\n",
      "2/2 [==============================] - 0s 95ms/step - loss: 0.4622 - accuracy: 0.9250 - val_loss: 0.4595 - val_accuracy: 0.9412\n",
      "Epoch 36/200\n",
      "2/2 [==============================] - 0s 90ms/step - loss: 0.4384 - accuracy: 0.9250 - val_loss: 0.4288 - val_accuracy: 0.9412\n",
      "Epoch 37/200\n",
      "2/2 [==============================] - 0s 148ms/step - loss: 0.4203 - accuracy: 0.9000 - val_loss: 0.3980 - val_accuracy: 0.9412\n",
      "Epoch 38/200\n",
      "2/2 [==============================] - 0s 146ms/step - loss: 0.3968 - accuracy: 0.9000 - val_loss: 0.3719 - val_accuracy: 0.9412\n",
      "Epoch 39/200\n",
      "2/2 [==============================] - 0s 159ms/step - loss: 0.3762 - accuracy: 0.9000 - val_loss: 0.3446 - val_accuracy: 0.9412\n",
      "Epoch 40/200\n",
      "2/2 [==============================] - 0s 152ms/step - loss: 0.3560 - accuracy: 0.9250 - val_loss: 0.3149 - val_accuracy: 0.9412\n",
      "Epoch 41/200\n",
      "2/2 [==============================] - 0s 141ms/step - loss: 0.3290 - accuracy: 0.9250 - val_loss: 0.2838 - val_accuracy: 0.9412\n",
      "Epoch 42/200\n",
      "2/2 [==============================] - 0s 172ms/step - loss: 0.2863 - accuracy: 0.9250 - val_loss: 0.2557 - val_accuracy: 0.9412\n",
      "Epoch 43/200\n",
      "2/2 [==============================] - 0s 87ms/step - loss: 0.2142 - accuracy: 0.9250 - val_loss: 0.2813 - val_accuracy: 0.9412\n",
      "Epoch 44/200\n",
      "2/2 [==============================] - 0s 83ms/step - loss: 0.1296 - accuracy: 0.9750 - val_loss: 0.6295 - val_accuracy: 0.7059\n",
      "Epoch 45/200\n",
      "2/2 [==============================] - 0s 79ms/step - loss: 0.1244 - accuracy: 0.9500 - val_loss: 1.4447 - val_accuracy: 0.7059\n",
      "Epoch 46/200\n",
      "2/2 [==============================] - 0s 88ms/step - loss: 0.1139 - accuracy: 0.9500 - val_loss: 1.4568 - val_accuracy: 0.8824\n",
      "Epoch 47/200\n",
      "2/2 [==============================] - 0s 78ms/step - loss: 0.0522 - accuracy: 0.9750 - val_loss: 1.2931 - val_accuracy: 0.8824\n",
      "Epoch 48/200\n",
      "2/2 [==============================] - 0s 81ms/step - loss: 0.0503 - accuracy: 0.9750 - val_loss: 1.4746 - val_accuracy: 0.8824\n",
      "Epoch 49/200\n",
      "2/2 [==============================] - 0s 86ms/step - loss: 0.0781 - accuracy: 0.9750 - val_loss: 2.1907 - val_accuracy: 0.8824\n",
      "Epoch 50/200\n",
      "2/2 [==============================] - 0s 86ms/step - loss: 0.0736 - accuracy: 0.9750 - val_loss: 4.5098 - val_accuracy: 0.8824\n",
      "Epoch 51/200\n",
      "2/2 [==============================] - 0s 83ms/step - loss: 0.0329 - accuracy: 0.9750 - val_loss: 10.8634 - val_accuracy: 0.8824\n",
      "Epoch 52/200\n",
      "2/2 [==============================] - 0s 86ms/step - loss: 0.0248 - accuracy: 0.9750 - val_loss: 15.7833 - val_accuracy: 0.7647\n",
      "Epoch 53/200\n",
      "2/2 [==============================] - 0s 84ms/step - loss: 0.0213 - accuracy: 1.0000 - val_loss: 14.2532 - val_accuracy: 0.7647\n",
      "Epoch 54/200\n",
      "2/2 [==============================] - 0s 90ms/step - loss: 0.0093 - accuracy: 1.0000 - val_loss: 12.2985 - val_accuracy: 0.8824\n",
      "Epoch 55/200\n",
      "2/2 [==============================] - 0s 92ms/step - loss: 0.0044 - accuracy: 1.0000 - val_loss: 10.7999 - val_accuracy: 0.8824\n",
      "Epoch 56/200\n",
      "2/2 [==============================] - 0s 86ms/step - loss: 0.0027 - accuracy: 1.0000 - val_loss: 9.8407 - val_accuracy: 0.8824\n",
      "Epoch 57/200\n",
      "2/2 [==============================] - 0s 82ms/step - loss: 0.0034 - accuracy: 1.0000 - val_loss: 9.5603 - val_accuracy: 0.8824\n",
      "Epoch 58/200\n",
      "2/2 [==============================] - 0s 81ms/step - loss: 0.0035 - accuracy: 1.0000 - val_loss: 10.2332 - val_accuracy: 0.8824\n",
      "Epoch 59/200\n",
      "2/2 [==============================] - 0s 78ms/step - loss: 0.0029 - accuracy: 1.0000 - val_loss: 11.6130 - val_accuracy: 0.8824\n",
      "Epoch 60/200\n",
      "2/2 [==============================] - 0s 88ms/step - loss: 0.0017 - accuracy: 1.0000 - val_loss: 13.3523 - val_accuracy: 0.8824\n",
      "Epoch 61/200\n",
      "2/2 [==============================] - 0s 84ms/step - loss: 0.0011 - accuracy: 1.0000 - val_loss: 15.5722 - val_accuracy: 0.8824\n",
      "Epoch 62/200\n",
      "2/2 [==============================] - 0s 81ms/step - loss: 6.1512e-04 - accuracy: 1.0000 - val_loss: 17.8797 - val_accuracy: 0.8824\n"
     ]
    }
   ],
   "source": [
    "standard_cnn_lstm_history, standard_cnn_lstm_model = run_standard_experiment()"
   ]
  },
  {
   "cell_type": "markdown",
   "id": "a9319686-9b7b-4abc-acee-720d65cd47ef",
   "metadata": {},
   "source": [
    "## Performance Measures"
   ]
  },
  {
   "cell_type": "markdown",
   "id": "ad0982ae-9657-4921-9b37-fd1d886415b4",
   "metadata": {},
   "source": [
    "#### Load saved best model and evaluate"
   ]
  },
  {
   "cell_type": "markdown",
   "id": "6a994d16-6a16-415f-ba81-f4a743605390",
   "metadata": {},
   "source": [
    "Load the weights from checkpoint and evaluate:"
   ]
  },
  {
   "cell_type": "code",
   "execution_count": 78,
   "id": "a270c60c-647f-46ea-81f5-1596b364ef09",
   "metadata": {},
   "outputs": [
    {
     "data": {
      "text/plain": [
       "<tensorflow.python.checkpoint.checkpoint.CheckpointLoadStatus at 0x200915b6290>"
      ]
     },
     "execution_count": 78,
     "metadata": {},
     "output_type": "execute_result"
    }
   ],
   "source": [
    "# Load weights \n",
    "standard_cnn_lstm_model.load_weights(f\"training_cp/cp\")"
   ]
  },
  {
   "cell_type": "code",
   "execution_count": 79,
   "id": "a87a02e7-d82e-47f7-94f1-a6dd6051b9ee",
   "metadata": {},
   "outputs": [
    {
     "name": "stdout",
     "output_type": "stream",
     "text": [
      "1/1 - 0s - loss: 0.2557 - accuracy: 0.9412 - 33ms/epoch - 33ms/step\n",
      "\n",
      "Best Accuracy and Loss:\n",
      "\n",
      "Accuracy: 94.12%\n",
      "Loss: 0.255679726600647%\n"
     ]
    }
   ],
   "source": [
    "loss, acc = standard_cnn_lstm_model.evaluate(three_dim_encoded_val_data, val_labels, verbose=2)\n",
    "print(\"\\nBest Accuracy and Loss:\\n\")\n",
    "print(\"Accuracy:\", f\"{round(acc * 100, 2)}%\")\n",
    "print(\"Loss:\", f\"{loss}%\")"
   ]
  },
  {
   "cell_type": "markdown",
   "id": "97fc8100-15ae-4925-b17d-e73da1dc2438",
   "metadata": {},
   "source": [
    "#### Make some predictions"
   ]
  },
  {
   "cell_type": "code",
   "execution_count": 222,
   "id": "9d0d0d47-82ab-4d60-89ff-ee1d394e90dd",
   "metadata": {},
   "outputs": [
    {
     "name": "stdout",
     "output_type": "stream",
     "text": [
      "1/1 [==============================] - 0s 48ms/step\n"
     ]
    }
   ],
   "source": [
    "preds = standard_cnn_lstm_model.predict(three_dim_encoded_val_data)"
   ]
  },
  {
   "cell_type": "code",
   "execution_count": 81,
   "id": "7ae5b236-d39d-491c-bf8a-43a8aacbf5ce",
   "metadata": {},
   "outputs": [],
   "source": [
    "actual = val_labels\n",
    "# actual"
   ]
  },
  {
   "cell_type": "code",
   "execution_count": 82,
   "id": "d1fa8381-2307-4d53-b0b4-5f12e25034fa",
   "metadata": {},
   "outputs": [],
   "source": [
    "predicted = tf.round(preds)\n",
    "# predicted"
   ]
  },
  {
   "cell_type": "code",
   "execution_count": 45,
   "id": "a036e223-9d6a-413d-b164-a94d4c67610e",
   "metadata": {},
   "outputs": [],
   "source": [
    "prediction_list = np.array([\"Good dribbling pose\" if x==0 else \"Good juggling pose\" for x in predicted])\n",
    "# prediction_list"
   ]
  },
  {
   "cell_type": "markdown",
   "id": "f52e6119-159f-40bd-a5fd-25cd245b031b",
   "metadata": {},
   "source": [
    "#### Confusion Matrix"
   ]
  },
  {
   "cell_type": "code",
   "execution_count": 83,
   "id": "98e063ee-a477-454b-b3bb-8579b249bd39",
   "metadata": {},
   "outputs": [
    {
     "name": "stdout",
     "output_type": "stream",
     "text": [
      "Confusion matrix\n",
      "\n",
      " [[7 0]\n",
      " [1 9]]\n"
     ]
    }
   ],
   "source": [
    "cm = confusion_matrix(actual, predicted)\n",
    "\n",
    "print('Confusion matrix\\n\\n', cm)"
   ]
  },
  {
   "cell_type": "code",
   "execution_count": 84,
   "id": "e1d44a58-8ff2-4200-b930-4ae0228bfa5a",
   "metadata": {},
   "outputs": [
    {
     "data": {
      "text/plain": [
       "<AxesSubplot:>"
      ]
     },
     "execution_count": 84,
     "metadata": {},
     "output_type": "execute_result"
    },
    {
     "data": {
      "image/png": "[encoded data removed]",
      "text/plain": [
       "<Figure size 432x288 with 2 Axes>"
      ]
     },
     "metadata": {},
     "output_type": "display_data"
    }
   ],
   "source": [
    "# Visualize confusion matrix with seaborn heatmap\n",
    "\n",
    "cm_matrix = pd.DataFrame(data=cm, columns=['Good dribbling pose', 'Good juggling pose'], \n",
    "                                 index=['Good dribbling pose', 'Good juggling pose'])\n",
    "\n",
    "sns.set(rc={'figure.figsize':(6, 4)})\n",
    "sns.set(font_scale=1.4)\n",
    "sns.heatmap(cm_matrix, annot=True, fmt='d', cmap='YlGnBu')"
   ]
  },
  {
   "cell_type": "markdown",
   "id": "1d44b4d0-0d92-48bd-ae92-dbe790268914",
   "metadata": {},
   "source": [
    "#### Classification Report"
   ]
  },
  {
   "cell_type": "code",
   "execution_count": 85,
   "id": "e6bd761a-604b-4668-a16b-a226ada1d5f2",
   "metadata": {},
   "outputs": [
    {
     "name": "stdout",
     "output_type": "stream",
     "text": [
      "              precision    recall  f1-score   support\n",
      "\n",
      "           0       0.88      1.00      0.93         7\n",
      "           1       1.00      0.90      0.95        10\n",
      "\n",
      "    accuracy                           0.94        17\n",
      "   macro avg       0.94      0.95      0.94        17\n",
      "weighted avg       0.95      0.94      0.94        17\n",
      "\n"
     ]
    }
   ],
   "source": [
    "# Classification report\n",
    "print(classification_report(actual, predicted))"
   ]
  },
  {
   "cell_type": "markdown",
   "id": "38d71e65-e614-480d-ae4d-413bf24b3128",
   "metadata": {},
   "source": [
    "#### Create DataFrame to Plot Training Accuracy and Loss "
   ]
  },
  {
   "cell_type": "code",
   "execution_count": 86,
   "id": "2eb5abca-d14d-4455-92f2-1a012d585413",
   "metadata": {},
   "outputs": [
    {
     "data": {
      "text/html": [
       "<div>\n",
       "<style scoped>\n",
       "    .dataframe tbody tr th:only-of-type {\n",
       "        vertical-align: middle;\n",
       "    }\n",
       "\n",
       "    .dataframe tbody tr th {\n",
       "        vertical-align: top;\n",
       "    }\n",
       "\n",
       "    .dataframe thead th {\n",
       "        text-align: right;\n",
       "    }\n",
       "</style>\n",
       "<table border=\"1\" class=\"dataframe\">\n",
       "  <thead>\n",
       "    <tr style=\"text-align: right;\">\n",
       "      <th></th>\n",
       "      <th>loss</th>\n",
       "      <th>accuracy</th>\n",
       "      <th>val_loss</th>\n",
       "      <th>val_accuracy</th>\n",
       "    </tr>\n",
       "  </thead>\n",
       "  <tbody>\n",
       "    <tr>\n",
       "      <th>0</th>\n",
       "      <td>0.693168</td>\n",
       "      <td>0.500</td>\n",
       "      <td>0.692843</td>\n",
       "      <td>0.647059</td>\n",
       "    </tr>\n",
       "    <tr>\n",
       "      <th>1</th>\n",
       "      <td>0.692871</td>\n",
       "      <td>0.675</td>\n",
       "      <td>0.692769</td>\n",
       "      <td>0.705882</td>\n",
       "    </tr>\n",
       "    <tr>\n",
       "      <th>2</th>\n",
       "      <td>0.692685</td>\n",
       "      <td>0.675</td>\n",
       "      <td>0.692559</td>\n",
       "      <td>0.705882</td>\n",
       "    </tr>\n",
       "    <tr>\n",
       "      <th>3</th>\n",
       "      <td>0.692512</td>\n",
       "      <td>0.575</td>\n",
       "      <td>0.692151</td>\n",
       "      <td>0.588235</td>\n",
       "    </tr>\n",
       "    <tr>\n",
       "      <th>4</th>\n",
       "      <td>0.692200</td>\n",
       "      <td>0.500</td>\n",
       "      <td>0.691894</td>\n",
       "      <td>0.588235</td>\n",
       "    </tr>\n",
       "  </tbody>\n",
       "</table>\n",
       "</div>"
      ],
      "text/plain": [
       "       loss  accuracy  val_loss  val_accuracy\n",
       "0  0.693168     0.500  0.692843      0.647059\n",
       "1  0.692871     0.675  0.692769      0.705882\n",
       "2  0.692685     0.675  0.692559      0.705882\n",
       "3  0.692512     0.575  0.692151      0.588235\n",
       "4  0.692200     0.500  0.691894      0.588235"
      ]
     },
     "execution_count": 86,
     "metadata": {},
     "output_type": "execute_result"
    }
   ],
   "source": [
    "standard_cnn_lstm_hist = pd.DataFrame(standard_cnn_lstm_history.history)\n",
    "standard_cnn_lstm_hist.head()"
   ]
  },
  {
   "cell_type": "code",
   "execution_count": 50,
   "id": "e52ab3b5-b8d6-4a8d-b8ae-23a26887e97c",
   "metadata": {},
   "outputs": [],
   "source": [
    "!mkdir plots"
   ]
  },
  {
   "cell_type": "markdown",
   "id": "cb59f863-c37d-448b-9221-821ba904c680",
   "metadata": {},
   "source": [
    "#### Plot Training Accuracy and Loss "
   ]
  },
  {
   "cell_type": "code",
   "execution_count": 87,
   "id": "460ff7a5-9cdc-465a-a032-c7814b9bc643",
   "metadata": {},
   "outputs": [
    {
     "data": {
      "image/png": "[encoded data removed]",
      "text/plain": [
       "<Figure size 432x288 with 1 Axes>"
      ]
     },
     "metadata": {},
     "output_type": "display_data"
    }
   ],
   "source": [
    "acc_loss = standard_cnn_lstm_hist[[\"accuracy\", \"loss\"]]\n",
    "acc_loss.plot(title='Training Accuracy and Loss')\n",
    "plt.xlabel(\"epochs\")\n",
    "plt.savefig(\"plots/Standard CNN-LSTM Training Accuracy and Loss\")"
   ]
  },
  {
   "cell_type": "markdown",
   "id": "a208fce1-160c-4fae-bc65-7373d170c564",
   "metadata": {},
   "source": [
    "#### Plot Validation Accuracy and Loss "
   ]
  },
  {
   "cell_type": "code",
   "execution_count": 88,
   "id": "f08cc0c9-d757-4889-86aa-718aebaf085b",
   "metadata": {},
   "outputs": [
    {
     "data": {
      "image/png": "[encoded data removed]",
      "text/plain": [
       "<Figure size 432x288 with 1 Axes>"
      ]
     },
     "metadata": {},
     "output_type": "display_data"
    }
   ],
   "source": [
    "val_acc_loss = standard_cnn_lstm_hist[[\"val_accuracy\", \"val_loss\"]]\n",
    "val_acc_loss.plot(title='Validation Accuracy and Loss')\n",
    "plt.xlabel(\"epochs\")\n",
    "plt.savefig(\"plots/Standard CNN-LSTM Validation Accuracy and Loss\")"
   ]
  },
  {
   "cell_type": "markdown",
   "id": "093932eb-1d21-4b40-96a4-e458022e0903",
   "metadata": {},
   "source": [
    "## Save the model"
   ]
  },
  {
   "cell_type": "code",
   "execution_count": 53,
   "id": "f54e1614-f2fa-49ff-92b7-5c0b015dc185",
   "metadata": {},
   "outputs": [],
   "source": [
    "!mkdir saved_encoded_cnn_lstm_model"
   ]
  },
  {
   "cell_type": "code",
   "execution_count": 55,
   "id": "3e356fd1-0119-4816-b39c-83cc0c93836f",
   "metadata": {},
   "outputs": [],
   "source": [
    "# standard_cnn_lstm_model.save('saved_encoded_cnn_lstm_model/')"
   ]
  },
  {
   "cell_type": "markdown",
   "id": "aa2d2305-f209-446f-a5f7-2f812638ed1e",
   "metadata": {},
   "source": [
    "HDF5 Format"
   ]
  },
  {
   "cell_type": "code",
   "execution_count": 89,
   "id": "9dcee5ec-0e8e-4c73-8ff1-d7281efe17af",
   "metadata": {},
   "outputs": [],
   "source": [
    "standard_cnn_lstm_model.save('saved_encoded_cnn_lstm_model/standard_cnn_lstm_model.h5')"
   ]
  },
  {
   "cell_type": "markdown",
   "id": "b31c9f8b-31d4-46e8-b267-2a482a19ff4f",
   "metadata": {},
   "source": [
    "## Hyperparameter Tuning"
   ]
  },
  {
   "cell_type": "code",
   "execution_count": 90,
   "id": "ab82d9e6-9adf-4b5a-bc1a-ca4db7047967",
   "metadata": {},
   "outputs": [],
   "source": [
    "def tuned_cnn_lstm():    \n",
    "    input_shape = three_dim_encoded_train_data.shape   \n",
    "    inputs = keras.Input(shape=(input_shape[1:]))\n",
    "    \n",
    "    conv = keras.layers.Conv1D(8, 3, activation='relu')(inputs) \n",
    "    # norm = keras.layers.BatchNormalization()(conv)       \n",
    "    lstm = keras.layers.LSTM(16, return_sequences=True, activation='relu')(conv)\n",
    "    dropout = keras.layers.Dropout(0.5)(lstm)   \n",
    "    lstm = keras.layers.LSTM(32, return_sequences=False, activation='relu')(dropout)\n",
    "    outputs = keras.layers.Dense(1, activation='sigmoid')(lstm)\n",
    "    tuned_cnn_lstm_model = keras.Model(inputs, outputs)\n",
    "    \n",
    "    # Compile the model\n",
    "    tuned_cnn_lstm_model.compile(\n",
    "        loss=\"binary_crossentropy\", \n",
    "        optimizer=Adam(learning_rate=0.001),\n",
    "        metrics=[\"accuracy\"]\n",
    "    )\n",
    "    \n",
    "    return tuned_cnn_lstm_model"
   ]
  },
  {
   "cell_type": "code",
   "execution_count": 91,
   "id": "5d9d47b1-0481-4bc6-aa8b-0c8d2d8da45a",
   "metadata": {},
   "outputs": [
    {
     "name": "stdout",
     "output_type": "stream",
     "text": [
      "Model: \"model_14\"\n",
      "_________________________________________________________________\n",
      " Layer (type)                Output Shape              Param #   \n",
      "=================================================================\n",
      " input_15 (InputLayer)       [(None, 30, 337)]         0         \n",
      "                                                                 \n",
      " conv1d_14 (Conv1D)          (None, 28, 8)             8096      \n",
      "                                                                 \n",
      " lstm_28 (LSTM)              (None, 28, 16)            1600      \n",
      "                                                                 \n",
      " dropout_4 (Dropout)         (None, 28, 16)            0         \n",
      "                                                                 \n",
      " lstm_29 (LSTM)              (None, 32)                6272      \n",
      "                                                                 \n",
      " dense_14 (Dense)            (None, 1)                 33        \n",
      "                                                                 \n",
      "=================================================================\n",
      "Total params: 16,001\n",
      "Trainable params: 16,001\n",
      "Non-trainable params: 0\n",
      "_________________________________________________________________\n"
     ]
    }
   ],
   "source": [
    "tuned_cnn_lstm_model = tuned_cnn_lstm()\n",
    "tuned_cnn_lstm_model.summary()"
   ]
  },
  {
   "cell_type": "code",
   "execution_count": 92,
   "id": "c609c41d-cca8-4867-891f-483a2e1afc8f",
   "metadata": {},
   "outputs": [
    {
     "data": {
      "image/png": "[encoded data removed]",
      "text/plain": [
       "<IPython.core.display.Image object>"
      ]
     },
     "execution_count": 92,
     "metadata": {},
     "output_type": "execute_result"
    }
   ],
   "source": [
    "keras.utils.plot_model(tuned_cnn_lstm_model, show_shapes=True)"
   ]
  },
  {
   "cell_type": "code",
   "execution_count": 93,
   "id": "26ff5874-1532-4b91-a857-9c495d6eb75b",
   "metadata": {},
   "outputs": [],
   "source": [
    "def run_tuned_experiment():      \n",
    "    tuned_cnn_lstm_model = tuned_cnn_lstm()     \n",
    "    \n",
    "    checkpoint_filepath = \"training_cp/cp\"\n",
    "    checkpoint_dir = os.path.dirname(checkpoint_filepath)\n",
    "    \n",
    "    checkpoint_callback = keras.callbacks.ModelCheckpoint(\n",
    "        checkpoint_filepath,\n",
    "        monitor=\"val_loss\",\n",
    "        save_best_only=True,\n",
    "        save_weights_only=True\n",
    "    )\n",
    "    \n",
    "    history = tuned_cnn_lstm_model.fit(\n",
    "        three_dim_encoded_train_data,\n",
    "        train_labels, \n",
    "        validation_data=(three_dim_encoded_val_data, val_labels),\n",
    "        epochs=200,\n",
    "        callbacks=[\n",
    "            checkpoint_callback,\n",
    "            keras.callbacks.EarlyStopping(monitor=\"val_loss\", patience=20)\n",
    "        ]\n",
    "    )\n",
    "    \n",
    "    return history, tuned_cnn_lstm_model"
   ]
  },
  {
   "cell_type": "code",
   "execution_count": 94,
   "id": "59b05235-c1e4-4b73-a3da-ff8473e6c9b3",
   "metadata": {},
   "outputs": [
    {
     "name": "stdout",
     "output_type": "stream",
     "text": [
      "Epoch 1/200\n",
      "2/2 [==============================] - 4s 632ms/step - loss: 0.6931 - accuracy: 0.5000 - val_loss: 0.6924 - val_accuracy: 0.5882\n",
      "Epoch 2/200\n",
      "2/2 [==============================] - 0s 80ms/step - loss: 0.6927 - accuracy: 0.5000 - val_loss: 0.6926 - val_accuracy: 0.6471\n",
      "Epoch 3/200\n",
      "2/2 [==============================] - 0s 84ms/step - loss: 0.6923 - accuracy: 0.5500 - val_loss: 0.6928 - val_accuracy: 0.4706\n",
      "Epoch 4/200\n",
      "2/2 [==============================] - 0s 82ms/step - loss: 0.6923 - accuracy: 0.7500 - val_loss: 0.6931 - val_accuracy: 0.4706\n",
      "Epoch 5/200\n",
      "2/2 [==============================] - 0s 86ms/step - loss: 0.6923 - accuracy: 0.5750 - val_loss: 0.6933 - val_accuracy: 0.4118\n",
      "Epoch 6/200\n",
      "2/2 [==============================] - 0s 83ms/step - loss: 0.6922 - accuracy: 0.5250 - val_loss: 0.6934 - val_accuracy: 0.4118\n",
      "Epoch 7/200\n",
      "2/2 [==============================] - 0s 133ms/step - loss: 0.6924 - accuracy: 0.5000 - val_loss: 0.6934 - val_accuracy: 0.4118\n",
      "Epoch 8/200\n",
      "2/2 [==============================] - 0s 96ms/step - loss: 0.6922 - accuracy: 0.5000 - val_loss: 0.6933 - val_accuracy: 0.4118\n",
      "Epoch 9/200\n",
      "2/2 [==============================] - 0s 84ms/step - loss: 0.6919 - accuracy: 0.5000 - val_loss: 0.6930 - val_accuracy: 0.4118\n",
      "Epoch 10/200\n",
      "2/2 [==============================] - 0s 147ms/step - loss: 0.6911 - accuracy: 0.5500 - val_loss: 0.6923 - val_accuracy: 0.4118\n",
      "Epoch 11/200\n",
      "2/2 [==============================] - 0s 147ms/step - loss: 0.6901 - accuracy: 0.6750 - val_loss: 0.6912 - val_accuracy: 0.5882\n",
      "Epoch 12/200\n",
      "2/2 [==============================] - 0s 140ms/step - loss: 0.6906 - accuracy: 0.8000 - val_loss: 0.6902 - val_accuracy: 0.8824\n",
      "Epoch 13/200\n",
      "2/2 [==============================] - 0s 143ms/step - loss: 0.6888 - accuracy: 0.8500 - val_loss: 0.6895 - val_accuracy: 0.8824\n",
      "Epoch 14/200\n",
      "2/2 [==============================] - 0s 147ms/step - loss: 0.6884 - accuracy: 0.8250 - val_loss: 0.6887 - val_accuracy: 0.8824\n",
      "Epoch 15/200\n",
      "2/2 [==============================] - 0s 142ms/step - loss: 0.6877 - accuracy: 0.8750 - val_loss: 0.6879 - val_accuracy: 0.8824\n",
      "Epoch 16/200\n",
      "2/2 [==============================] - 0s 151ms/step - loss: 0.6859 - accuracy: 0.9250 - val_loss: 0.6866 - val_accuracy: 0.8235\n",
      "Epoch 17/200\n",
      "2/2 [==============================] - 0s 136ms/step - loss: 0.6844 - accuracy: 0.8250 - val_loss: 0.6842 - val_accuracy: 0.8235\n",
      "Epoch 18/200\n",
      "2/2 [==============================] - 0s 137ms/step - loss: 0.6838 - accuracy: 0.8000 - val_loss: 0.6813 - val_accuracy: 0.7647\n",
      "Epoch 19/200\n",
      "2/2 [==============================] - 0s 129ms/step - loss: 0.6798 - accuracy: 0.7500 - val_loss: 0.6781 - val_accuracy: 0.7647\n",
      "Epoch 20/200\n",
      "2/2 [==============================] - 0s 138ms/step - loss: 0.6769 - accuracy: 0.7250 - val_loss: 0.6734 - val_accuracy: 0.7059\n",
      "Epoch 21/200\n",
      "2/2 [==============================] - 0s 138ms/step - loss: 0.6740 - accuracy: 0.7250 - val_loss: 0.6668 - val_accuracy: 0.7059\n",
      "Epoch 22/200\n",
      "2/2 [==============================] - 0s 134ms/step - loss: 0.6670 - accuracy: 0.7000 - val_loss: 0.6571 - val_accuracy: 0.7059\n",
      "Epoch 23/200\n",
      "2/2 [==============================] - 0s 138ms/step - loss: 0.6596 - accuracy: 0.6500 - val_loss: 0.6420 - val_accuracy: 0.7059\n",
      "Epoch 24/200\n",
      "2/2 [==============================] - 0s 136ms/step - loss: 0.6492 - accuracy: 0.6000 - val_loss: 0.6179 - val_accuracy: 0.7059\n",
      "Epoch 25/200\n",
      "2/2 [==============================] - 0s 132ms/step - loss: 0.6310 - accuracy: 0.5750 - val_loss: 0.5784 - val_accuracy: 0.7059\n",
      "Epoch 26/200\n",
      "2/2 [==============================] - 0s 137ms/step - loss: 0.6103 - accuracy: 0.5750 - val_loss: 0.5198 - val_accuracy: 0.7059\n",
      "Epoch 27/200\n",
      "2/2 [==============================] - 0s 144ms/step - loss: 0.5677 - accuracy: 0.6250 - val_loss: 0.4554 - val_accuracy: 0.7059\n",
      "Epoch 28/200\n",
      "2/2 [==============================] - 0s 83ms/step - loss: 0.5628 - accuracy: 0.7000 - val_loss: 0.4861 - val_accuracy: 0.7647\n",
      "Epoch 29/200\n",
      "2/2 [==============================] - 0s 87ms/step - loss: 0.5685 - accuracy: 0.7750 - val_loss: 0.5383 - val_accuracy: 0.8235\n",
      "Epoch 30/200\n",
      "2/2 [==============================] - 0s 94ms/step - loss: 0.5570 - accuracy: 0.8500 - val_loss: 0.5850 - val_accuracy: 0.8824\n",
      "Epoch 31/200\n",
      "2/2 [==============================] - 0s 89ms/step - loss: 0.5783 - accuracy: 0.9000 - val_loss: 0.6021 - val_accuracy: 0.8824\n",
      "Epoch 32/200\n",
      "2/2 [==============================] - 0s 83ms/step - loss: 0.5833 - accuracy: 0.9500 - val_loss: 0.6008 - val_accuracy: 0.8824\n",
      "Epoch 33/200\n",
      "2/2 [==============================] - 0s 80ms/step - loss: 0.5700 - accuracy: 0.9500 - val_loss: 0.5824 - val_accuracy: 0.8824\n",
      "Epoch 34/200\n",
      "2/2 [==============================] - 0s 80ms/step - loss: 0.5630 - accuracy: 0.9250 - val_loss: 0.5509 - val_accuracy: 0.8824\n",
      "Epoch 35/200\n",
      "2/2 [==============================] - 0s 80ms/step - loss: 0.5235 - accuracy: 0.9000 - val_loss: 0.5064 - val_accuracy: 0.8235\n",
      "Epoch 36/200\n",
      "2/2 [==============================] - 0s 121ms/step - loss: 0.5003 - accuracy: 0.8750 - val_loss: 0.4539 - val_accuracy: 0.8235\n",
      "Epoch 37/200\n",
      "2/2 [==============================] - 0s 126ms/step - loss: 0.4400 - accuracy: 0.8500 - val_loss: 0.4018 - val_accuracy: 0.8235\n",
      "Epoch 38/200\n",
      "2/2 [==============================] - 0s 134ms/step - loss: 0.4380 - accuracy: 0.8500 - val_loss: 0.3652 - val_accuracy: 0.8235\n",
      "Epoch 39/200\n",
      "2/2 [==============================] - 0s 144ms/step - loss: 0.4280 - accuracy: 0.8750 - val_loss: 0.3452 - val_accuracy: 0.8235\n",
      "Epoch 40/200\n",
      "2/2 [==============================] - 0s 138ms/step - loss: 0.3810 - accuracy: 0.8750 - val_loss: 0.3237 - val_accuracy: 0.8824\n",
      "Epoch 41/200\n",
      "2/2 [==============================] - 0s 144ms/step - loss: 0.3858 - accuracy: 0.9000 - val_loss: 0.3127 - val_accuracy: 0.9412\n",
      "Epoch 42/200\n",
      "2/2 [==============================] - 0s 80ms/step - loss: 0.2985 - accuracy: 0.9000 - val_loss: 0.3176 - val_accuracy: 0.9412\n",
      "Epoch 43/200\n",
      "2/2 [==============================] - 0s 92ms/step - loss: 0.2292 - accuracy: 0.9500 - val_loss: 0.3687 - val_accuracy: 0.9412\n",
      "Epoch 44/200\n",
      "2/2 [==============================] - 0s 86ms/step - loss: 0.2296 - accuracy: 0.9250 - val_loss: 0.4939 - val_accuracy: 0.7647\n",
      "Epoch 45/200\n",
      "2/2 [==============================] - 0s 81ms/step - loss: 0.1439 - accuracy: 0.9500 - val_loss: 0.8799 - val_accuracy: 0.8235\n",
      "Epoch 46/200\n",
      "2/2 [==============================] - 0s 81ms/step - loss: 0.1248 - accuracy: 0.9500 - val_loss: 1.2623 - val_accuracy: 0.9412\n",
      "Epoch 47/200\n",
      "2/2 [==============================] - 0s 85ms/step - loss: 0.2435 - accuracy: 0.9250 - val_loss: 2.1854 - val_accuracy: 0.8235\n",
      "Epoch 48/200\n",
      "2/2 [==============================] - 0s 88ms/step - loss: 0.0978 - accuracy: 0.9500 - val_loss: 1.9511 - val_accuracy: 0.8824\n",
      "Epoch 49/200\n",
      "2/2 [==============================] - 0s 107ms/step - loss: 0.0630 - accuracy: 0.9500 - val_loss: 1.7583 - val_accuracy: 0.8824\n",
      "Epoch 50/200\n",
      "2/2 [==============================] - 0s 99ms/step - loss: 0.0549 - accuracy: 0.9750 - val_loss: 1.6188 - val_accuracy: 0.8824\n",
      "Epoch 51/200\n",
      "2/2 [==============================] - 0s 97ms/step - loss: 0.0452 - accuracy: 1.0000 - val_loss: 1.5486 - val_accuracy: 0.9412\n",
      "Epoch 52/200\n",
      "2/2 [==============================] - 0s 106ms/step - loss: 0.0427 - accuracy: 1.0000 - val_loss: 1.9366 - val_accuracy: 0.9412\n",
      "Epoch 53/200\n",
      "2/2 [==============================] - 0s 105ms/step - loss: 0.0384 - accuracy: 1.0000 - val_loss: 2.9357 - val_accuracy: 0.9412\n",
      "Epoch 54/200\n",
      "2/2 [==============================] - 0s 98ms/step - loss: 0.0335 - accuracy: 1.0000 - val_loss: 4.5925 - val_accuracy: 0.8824\n",
      "Epoch 55/200\n",
      "2/2 [==============================] - 0s 91ms/step - loss: 0.0205 - accuracy: 1.0000 - val_loss: 6.7502 - val_accuracy: 0.8824\n",
      "Epoch 56/200\n",
      "2/2 [==============================] - 0s 94ms/step - loss: 0.0211 - accuracy: 1.0000 - val_loss: 9.4185 - val_accuracy: 0.8235\n",
      "Epoch 57/200\n",
      "2/2 [==============================] - 0s 89ms/step - loss: 0.0099 - accuracy: 1.0000 - val_loss: 12.5560 - val_accuracy: 0.8235\n",
      "Epoch 58/200\n",
      "2/2 [==============================] - 0s 89ms/step - loss: 0.0131 - accuracy: 1.0000 - val_loss: 15.2088 - val_accuracy: 0.8235\n",
      "Epoch 59/200\n",
      "2/2 [==============================] - 0s 86ms/step - loss: 0.0011 - accuracy: 1.0000 - val_loss: 17.4771 - val_accuracy: 0.8235\n",
      "Epoch 60/200\n",
      "2/2 [==============================] - 0s 90ms/step - loss: 0.0033 - accuracy: 1.0000 - val_loss: 19.4786 - val_accuracy: 0.8235\n",
      "Epoch 61/200\n",
      "2/2 [==============================] - 0s 85ms/step - loss: 4.6846e-04 - accuracy: 1.0000 - val_loss: 21.2747 - val_accuracy: 0.8235\n"
     ]
    }
   ],
   "source": [
    "tuned_cnn_lstm_history, tuned_cnn_lstm_model = run_tuned_experiment()"
   ]
  },
  {
   "cell_type": "markdown",
   "id": "d33182c0-6b63-4983-80fa-a518582fc25b",
   "metadata": {},
   "source": [
    "## Performance Measures"
   ]
  },
  {
   "cell_type": "markdown",
   "id": "31011338-05dc-424c-8eab-90de9faf4c22",
   "metadata": {},
   "source": [
    "#### Load best model"
   ]
  },
  {
   "cell_type": "code",
   "execution_count": 95,
   "id": "752b5df5-5606-4825-8930-819bd0e400a7",
   "metadata": {},
   "outputs": [
    {
     "data": {
      "text/plain": [
       "<tensorflow.python.checkpoint.checkpoint.CheckpointLoadStatus at 0x20085e64820>"
      ]
     },
     "execution_count": 95,
     "metadata": {},
     "output_type": "execute_result"
    }
   ],
   "source": [
    "# Load weights \n",
    "tuned_cnn_lstm_model.load_weights(f\"training_cp/cp\")"
   ]
  },
  {
   "cell_type": "code",
   "execution_count": 96,
   "id": "0145ad2c-8b46-4c9d-83fc-6f116454226e",
   "metadata": {},
   "outputs": [
    {
     "name": "stdout",
     "output_type": "stream",
     "text": [
      "1/1 - 0s - loss: 0.3127 - accuracy: 0.9412 - 33ms/epoch - 33ms/step\n",
      "\n",
      "Best Accuracy and Loss\n",
      "\n",
      "Accuracy: 94.12%\n",
      "Loss: 0.3126513361930847%\n"
     ]
    }
   ],
   "source": [
    "loss, acc = tuned_cnn_lstm_model.evaluate(three_dim_encoded_val_data, val_labels, verbose=2)\n",
    "print(\"\\nBest Accuracy and Loss\\n\")\n",
    "print(\"Accuracy:\", f\"{round(acc * 100, 2)}%\")\n",
    "print(\"Loss:\", f\"{loss}%\")"
   ]
  },
  {
   "cell_type": "markdown",
   "id": "a489b00a-35e7-439f-8d76-d348fb955b81",
   "metadata": {},
   "source": [
    "#### Make predictions"
   ]
  },
  {
   "cell_type": "code",
   "execution_count": 216,
   "id": "33df9563-9104-47bf-88f9-c50d0c5385f8",
   "metadata": {},
   "outputs": [
    {
     "name": "stdout",
     "output_type": "stream",
     "text": [
      "1/1 [==============================] - 0s 104ms/step\n"
     ]
    }
   ],
   "source": [
    "tuned_preds = tuned_cnn_lstm_model.predict(three_dim_encoded_val_data)"
   ]
  },
  {
   "cell_type": "code",
   "execution_count": 98,
   "id": "4f1f6d69-7a97-4337-b544-f9382b8baf9c",
   "metadata": {},
   "outputs": [],
   "source": [
    "actual = val_labels"
   ]
  },
  {
   "cell_type": "code",
   "execution_count": 99,
   "id": "fc42e146-604c-4da7-be31-8e0a86df02d1",
   "metadata": {},
   "outputs": [],
   "source": [
    "tuned_predictions = tf.round(tuned_preds)"
   ]
  },
  {
   "cell_type": "code",
   "execution_count": 100,
   "id": "8f9716bb-ea87-4e34-8bcb-83ec25afef30",
   "metadata": {},
   "outputs": [
    {
     "name": "stdout",
     "output_type": "stream",
     "text": [
      "Tuned Confusion matrix\n",
      "\n",
      " [[7 0]\n",
      " [1 9]]\n"
     ]
    }
   ],
   "source": [
    "tuned_cm = confusion_matrix(actual, tuned_predictions)\n",
    "\n",
    "print('Tuned Confusion matrix\\n\\n', tuned_cm)"
   ]
  },
  {
   "cell_type": "code",
   "execution_count": 101,
   "id": "b7bedf52-f66b-4220-b157-3ba1351fe651",
   "metadata": {},
   "outputs": [
    {
     "data": {
      "text/plain": [
       "<AxesSubplot:>"
      ]
     },
     "execution_count": 101,
     "metadata": {},
     "output_type": "execute_result"
    },
    {
     "data": {
      "image/png": "[encoded data removed]",
      "text/plain": [
       "<Figure size 432x288 with 2 Axes>"
      ]
     },
     "metadata": {},
     "output_type": "display_data"
    }
   ],
   "source": [
    "# Visualize confusion matrix with seaborn heatmap\n",
    "\n",
    "tuned_cm_matrix = pd.DataFrame(data=tuned_cm, columns=['Good dribbling pose', 'Good juggling pose'], \n",
    "                                 index=['Good dribbling pose', 'Good juggling pose'])\n",
    "\n",
    "sns.set(rc={'figure.figsize':(6, 4)})\n",
    "sns.set(font_scale=1.4)\n",
    "sns.heatmap(tuned_cm_matrix, annot=True, fmt='d', cmap='YlGnBu')"
   ]
  },
  {
   "cell_type": "markdown",
   "id": "1a96fb57-0091-4832-a09b-8329ad00c8b2",
   "metadata": {},
   "source": [
    "#### Classification Report for Tuned Hyperparameters"
   ]
  },
  {
   "cell_type": "code",
   "execution_count": 102,
   "id": "9adab9ea-e32e-441f-9107-9783e1ad6d85",
   "metadata": {},
   "outputs": [
    {
     "name": "stdout",
     "output_type": "stream",
     "text": [
      "              precision    recall  f1-score   support\n",
      "\n",
      "           0       0.88      1.00      0.93         7\n",
      "           1       1.00      0.90      0.95        10\n",
      "\n",
      "    accuracy                           0.94        17\n",
      "   macro avg       0.94      0.95      0.94        17\n",
      "weighted avg       0.95      0.94      0.94        17\n",
      "\n"
     ]
    }
   ],
   "source": [
    "# Classification report\n",
    "print(classification_report(actual, tuned_predictions))"
   ]
  },
  {
   "cell_type": "code",
   "execution_count": 103,
   "id": "da9d4da0-a29a-4dbf-9e0e-f4d93a03312e",
   "metadata": {},
   "outputs": [
    {
     "data": {
      "text/html": [
       "<div>\n",
       "<style scoped>\n",
       "    .dataframe tbody tr th:only-of-type {\n",
       "        vertical-align: middle;\n",
       "    }\n",
       "\n",
       "    .dataframe tbody tr th {\n",
       "        vertical-align: top;\n",
       "    }\n",
       "\n",
       "    .dataframe thead th {\n",
       "        text-align: right;\n",
       "    }\n",
       "</style>\n",
       "<table border=\"1\" class=\"dataframe\">\n",
       "  <thead>\n",
       "    <tr style=\"text-align: right;\">\n",
       "      <th></th>\n",
       "      <th>loss</th>\n",
       "      <th>accuracy</th>\n",
       "      <th>val_loss</th>\n",
       "      <th>val_accuracy</th>\n",
       "    </tr>\n",
       "  </thead>\n",
       "  <tbody>\n",
       "    <tr>\n",
       "      <th>0</th>\n",
       "      <td>0.693055</td>\n",
       "      <td>0.500</td>\n",
       "      <td>0.692447</td>\n",
       "      <td>0.588235</td>\n",
       "    </tr>\n",
       "    <tr>\n",
       "      <th>1</th>\n",
       "      <td>0.692749</td>\n",
       "      <td>0.500</td>\n",
       "      <td>0.692631</td>\n",
       "      <td>0.647059</td>\n",
       "    </tr>\n",
       "    <tr>\n",
       "      <th>2</th>\n",
       "      <td>0.692331</td>\n",
       "      <td>0.550</td>\n",
       "      <td>0.692839</td>\n",
       "      <td>0.470588</td>\n",
       "    </tr>\n",
       "    <tr>\n",
       "      <th>3</th>\n",
       "      <td>0.692325</td>\n",
       "      <td>0.750</td>\n",
       "      <td>0.693057</td>\n",
       "      <td>0.470588</td>\n",
       "    </tr>\n",
       "    <tr>\n",
       "      <th>4</th>\n",
       "      <td>0.692257</td>\n",
       "      <td>0.575</td>\n",
       "      <td>0.693324</td>\n",
       "      <td>0.411765</td>\n",
       "    </tr>\n",
       "  </tbody>\n",
       "</table>\n",
       "</div>"
      ],
      "text/plain": [
       "       loss  accuracy  val_loss  val_accuracy\n",
       "0  0.693055     0.500  0.692447      0.588235\n",
       "1  0.692749     0.500  0.692631      0.647059\n",
       "2  0.692331     0.550  0.692839      0.470588\n",
       "3  0.692325     0.750  0.693057      0.470588\n",
       "4  0.692257     0.575  0.693324      0.411765"
      ]
     },
     "execution_count": 103,
     "metadata": {},
     "output_type": "execute_result"
    }
   ],
   "source": [
    "tuned_cnn_lstm_hist = pd.DataFrame(tuned_cnn_lstm_history.history)\n",
    "tuned_cnn_lstm_hist.head()"
   ]
  },
  {
   "cell_type": "markdown",
   "id": "3c4edad1-3ff4-4db4-8240-7447089b1915",
   "metadata": {},
   "source": [
    "## Plot Tuned Training Accuracy and Losse"
   ]
  },
  {
   "cell_type": "code",
   "execution_count": 104,
   "id": "d7e91dec-c72b-4cbd-bc91-1af05e613ed4",
   "metadata": {},
   "outputs": [
    {
     "data": {
      "image/png": "[encoded data removed]",
      "text/plain": [
       "<Figure size 432x288 with 1 Axes>"
      ]
     },
     "metadata": {},
     "output_type": "display_data"
    }
   ],
   "source": [
    "tuned_acc_loss = tuned_cnn_lstm_hist[[\"accuracy\", \"loss\"]]\n",
    "tuned_acc_loss.plot(title='Training Accuracy and Loss')\n",
    "plt.xlabel(\"epochs\")\n",
    "plt.savefig(\"plots/Tuned CNN-LSTM Training Accuracy and Loss\")"
   ]
  },
  {
   "cell_type": "markdown",
   "id": "4202910c-01c8-4dae-a86a-216a67e11ae5",
   "metadata": {},
   "source": [
    "## Plot Tuned Validation Accuracy and Loss"
   ]
  },
  {
   "cell_type": "code",
   "execution_count": 105,
   "id": "484a3989-b316-4829-967a-f1104317633b",
   "metadata": {},
   "outputs": [
    {
     "data": {
      "image/png": "[encoded data removed]",
      "text/plain": [
       "<Figure size 432x288 with 1 Axes>"
      ]
     },
     "metadata": {},
     "output_type": "display_data"
    }
   ],
   "source": [
    "tuned_val_acc_loss = tuned_cnn_lstm_hist[[\"val_accuracy\", \"val_loss\"]]\n",
    "tuned_val_acc_loss.plot(title='Validation Accuracy and Loss')\n",
    "plt.xlabel(\"epochs\")\n",
    "plt.savefig(\"plots/Tuned CNN-LSTM Validation Accuracy and Loss\")"
   ]
  },
  {
   "cell_type": "markdown",
   "id": "b00213cf-a7ef-44fb-8a98-4e0de98b3aa9",
   "metadata": {},
   "source": [
    "## Save Tuned Model"
   ]
  },
  {
   "cell_type": "code",
   "execution_count": 108,
   "id": "c7d2f69c-db0f-44d1-84e6-ca62e4c552ac",
   "metadata": {},
   "outputs": [],
   "source": [
    "# !mkdir saved_tuned_encoded_cnn_lstm_model"
   ]
  },
  {
   "cell_type": "markdown",
   "id": "5b84459e-8e69-4159-9a1f-f5eff3abf335",
   "metadata": {},
   "source": [
    "Save tuned HDF5 format"
   ]
  },
  {
   "cell_type": "code",
   "execution_count": 106,
   "id": "81ba1a2d-8f8b-4169-99ee-b37748df230f",
   "metadata": {},
   "outputs": [],
   "source": [
    "tuned_cnn_lstm_model.save('saved_tuned_encoded_cnn_lstm_model/tuned_cnn_lstm_model.h5')"
   ]
  }
 ],
 "metadata": {
  "kernelspec": {
   "display_name": "Python 3 (ipykernel)",
   "language": "python",
   "name": "python3"
  },
  "language_info": {
   "codemirror_mode": {
    "name": "ipython",
    "version": 3
   },
   "file_extension": ".py",
   "mimetype": "text/x-python",
   "name": "python",
   "nbconvert_exporter": "python",
   "pygments_lexer": "ipython3",
   "version": "3.10.5"
  }
 },
 "nbformat": 4,
 "nbformat_minor": 5
}
